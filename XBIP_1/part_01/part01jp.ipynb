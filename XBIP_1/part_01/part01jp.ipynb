{
 "cells": [
  {
   "cell_type": "code",
   "execution_count": 2,
   "metadata": {},
   "outputs": [],
   "source": [
    "import secrets\n",
    "import time\n",
    "import random\n",
    "import hashlib\n",
    "import base58\n",
    "\n",
    "\n",
    "import ecdsa\n",
    "import binascii\n",
    "\n",
    "import codecs\n",
    "\n",
    "import struct"
   ]
  },
  {
   "cell_type": "code",
   "execution_count": 94,
   "metadata": {},
   "outputs": [],
   "source": [
    "# wallet.py\n",
    "\n",
    "class KeyGenerator():\n",
    "    def __init__(self):\n",
    "        self.CURVE_ORDER = int('FFFFFFFFFFFFFFFFFFFFFFFFFFFFFFFEBAAEDCE6AF48A03BBFD25E8CD0364141', 16)\n",
    "        self.POOL_SIZE = 256\n",
    "        self.KEY_BYTES = 32\n",
    "        self.pool = [0] * self.POOL_SIZE\n",
    "        self.pool_pointer = 0\n",
    "        self.prng_state = None\n",
    "        self.__init_pool()\n",
    "        \n",
    "    def __init_pool(self):\n",
    "        for i in range(self.POOL_SIZE):\n",
    "            random_byte = secrets.randbits(8)\n",
    "            self.__seed_byte(random_byte)\n",
    "        time_int = int(time.time())\n",
    "        self.__seed_int(time_int)\n",
    "    \n",
    "    def __seed_int(self, n):\n",
    "        self.__seed_byte(n)\n",
    "        self.__seed_byte(n >> 8)\n",
    "        self.__seed_byte(n >> 16)\n",
    "        self.__seed_byte(n >> 24)\n",
    "    \n",
    "    def __seed_byte(self, n):\n",
    "        self.pool[self.pool_pointer] ^= n & 255\n",
    "        self.pool_pointer += 1\n",
    "        if self.pool_pointer >= self.POOL_SIZE:\n",
    "            self.pool_pointer = 0\n",
    "    \n",
    "    def seed_input(self, str_input):\n",
    "        time_int = int(time.time())\n",
    "        self.__seed_int(time_int)\n",
    "        for char in str_input:\n",
    "            char_code = ord(char)\n",
    "            self.__seed_byte(char_code)\n",
    "\n",
    "    def generate_key(self):\n",
    "        big_int = self.__generate_big_int()\n",
    "        big_int %= (self.CURVE_ORDER - 1)\n",
    "        big_int += 1\n",
    "        key = hex(big_int)[2:]\n",
    "        return key\n",
    "    \n",
    "    def __generate_big_int(self):\n",
    "        if self.prng_state is None:\n",
    "            seed = int.from_bytes(self.pool, byteorder='big', signed=False)\n",
    "            random.seed(seed)\n",
    "            self.prng_state = random.getstate()\n",
    "            random.setstate(self.prng_state)\n",
    "            big_int = random.getrandbits(self.KEY_BYTES * 8)\n",
    "            self.prng_state = random.getstate()\n",
    "            return big_int\n",
    "\n",
    "class Wallet:\n",
    "    def __init__(self, seed=None, key_to_file=False):\n",
    "        self.__create_priv_key(seed, key_to_file)\n",
    "        self.public_keys = []\n",
    "\n",
    "    def __create_priv_key(self, seed=None, key_to_file=False):\n",
    "        keygen = KeyGenerator()\n",
    "        if seed:\n",
    "            keygen.seed_input(seed)\n",
    "        key = keygen.generate_key()\n",
    "        if key_to_file:\n",
    "            f = open(\"privkey.pem\", \"w+\")\n",
    "            f.write(key)\n",
    "            f.close()\n",
    "        else:\n",
    "            print(key)\n",
    "        del key\n",
    "        del keygen\n",
    "\n",
    "    @staticmethod\n",
    "    def priv_to_WIF(filename):\n",
    "        f = open(filename, \"r\")\n",
    "        if f.mode == \"r\":\n",
    "            key = f.read()\n",
    "            print(key)\n",
    "            _priv = key.upper()\n",
    "            priv_add_x80 = \"80\" + _priv\n",
    "            sh = sha256(sha256(priv_add_x80))\n",
    "            first_4_bytes = sh[0:8]\n",
    "            resulting_hex = priv_add_x80 + first_4_bytes\n",
    "            result_wif = Wallet.base58(resulting_hex)\n",
    "            del key\n",
    "            return result_wif\n",
    "        else: print (\"Incorrect file!\")\n",
    "    \n",
    "    @staticmethod\n",
    "    def base58(address_hex):\n",
    "        alphabet = '123456789ABCDEFGHJKLMNPQRSTUVWXYZabcdefghijkmnopqrstuvwxyz'\n",
    "        b58_string = ''\n",
    "        leading_zeros = len(address_hex) - len(address_hex.lstrip('0'))\n",
    "        address_int = int(address_hex, 16)\n",
    "        while address_int > 0:\n",
    "            digit = address_int % 58\n",
    "            digit_char = alphabet[digit]\n",
    "            b58_string = digit_char + b58_string\n",
    "            address_int //= 58\n",
    "        ones = leading_zeros // 2\n",
    "        for one in range(ones):\n",
    "            b58_string = '1' + b58_string\n",
    "        return b58_string\n",
    "    \n",
    "    @staticmethod\n",
    "    def private_to_public(private_key, is_print=False):\n",
    "        pk_bytes = codecs.decode(private_key, 'hex')\n",
    "        \n",
    "        key = ecdsa.SigningKey.from_string(pk_bytes, curve=ecdsa.SECP256k1).verifying_key\n",
    "        key_bytes = key.to_string()\n",
    "        key_hex = codecs.encode(key_bytes, 'hex')\n",
    "        btc_byte = b'04'\n",
    "        public_key = btc_byte + key_hex\n",
    "        \n",
    "        if is_print:\n",
    "            print(public_key.decode('utf-8'))\n",
    "        \n",
    "        return public_key.decode('utf-8')\n",
    "    \n",
    "    @staticmethod\n",
    "    def public_key_to_addr(key):\n",
    "        public_key_bytes = codecs.decode(key, 'hex')\n",
    "\n",
    "        # Run SHA256 for the public key\n",
    "        sha256_bpk = hashlib.sha256(public_key_bytes)\n",
    "        sha256_bpk_digest = sha256_bpk.digest()\n",
    "\n",
    "        # Run ripemd160 for the SHA256\n",
    "        ripemd160_bpk = hashlib.new('ripemd160')\n",
    "        ripemd160_bpk.update(sha256_bpk_digest)\n",
    "        ripemd160_bpk_digest = ripemd160_bpk.digest()\n",
    "        ripemd160_bpk_hex = codecs.encode(ripemd160_bpk_digest, 'hex')\n",
    "\n",
    "        # Add network byte\n",
    "        network_byte = b'00'\n",
    "        network_bitcoin_public_key = network_byte + ripemd160_bpk_hex\n",
    "        network_bitcoin_public_key_bytes = codecs.decode(network_bitcoin_public_key, 'hex')\n",
    "\n",
    "        # Double SHA256 to get checksum\n",
    "        sha256_2_nbpk_digest = hashlib.sha256(hashlib.sha256(network_bitcoin_public_key_bytes).digest()).digest()\n",
    "        sha256_2_hex = codecs.encode(sha256_2_nbpk_digest, 'hex')\n",
    "        checksum = sha256_2_hex[:8]\n",
    "\n",
    "        # Concatenate public key and checksum to get the address\n",
    "        address_hex = (network_bitcoin_public_key + checksum).decode('utf-8')\n",
    "        address = Wallet.base58(address_hex)\n",
    "        return address\n",
    "    \n",
    "    @staticmethod\n",
    "    def private_key_to_addr(key):\n",
    "        return Wallet.public_key_to_addr(private_to_public(key))\n",
    "    \n",
    "    @staticmethod\n",
    "    def sign_message(message, private_key):\n",
    "        key_bytes = codecs.decode(private_key, 'hex')\n",
    "        sk = ecdsa.SigningKey.from_string(key_bytes, curve=ecdsa.SECP256k1)\n",
    "        signed_msg = sk.sign(message.encode('utf-8'))\n",
    "        return (signed_msg.hex(), Wallet.private_to_public(private_key))\n",
    "    \n",
    "    @staticmethod\n",
    "    def verify_message(message, public_key, signature):\n",
    "        vk = ecdsa.VerifyingKey.from_string(bytes.fromhex(public_key[2:]), curve=ecdsa.SECP256k1)\n",
    "        return (vk.verify(bytes.fromhex(signature), message.encode('utf-8')))"
   ]
  },
  {
   "cell_type": "code",
   "execution_count": 100,
   "metadata": {},
   "outputs": [],
   "source": [
    "class Transaction:\n",
    "\n",
    "    def __init__(self, sender_address=None, recepient_address=None, amount=None):\n",
    "        if not sender_address:\n",
    "            raise ValueError(\"No sender address !\")\n",
    "        if not recepient_address:\n",
    "            raise ValueError(\"No recepient address !\")\n",
    "        if not amount:\n",
    "            raise ValueError(\"No amount !\")\n",
    "        if amount <= 0:\n",
    "            raise ValueError(\"Amount must be > 0 !\")\n",
    "\n",
    "        self.sender_address = sender_address\n",
    "        self.recepient_address = recepient_address\n",
    "        self.amount = amount\n",
    "\n",
    "    def to_dict(self):\n",
    "        return dict({'sender_address': self.sender_address,\n",
    "                            'recipient_address': self.recipient_address,\n",
    "                            'value': self.value})\n",
    "\n",
    "    def transaction_hash(self):\n",
    "        tsx = self.sender_address + self.recepient_address + '%04x' % self.amount\n",
    "        tsx_bytes = codecs.encode(bytes(tsx, encoding='utf-8'), 'hex')\n",
    "        transaction_hash = hashlib.sha256(tsx_bytes).digest()\n",
    "        return transaction_hash.hex()\n",
    "\n",
    "class CoinbaseTransaction(Transaction):\n",
    "    def __init__(self, amount=50):\n",
    "        super(CoinbaseTransaction, self).__init__(\n",
    "            '0000000000000000000000000000000000',\n",
    "            '0000000000000000000000000000000000',\n",
    "            amount)\n"
   ]
  },
  {
   "cell_type": "code",
   "execution_count": 96,
   "metadata": {},
   "outputs": [],
   "source": [
    "class Serializer:\n",
    "    @staticmethod\n",
    "    def serialize(num_of_coins, sender_addr, recepient_addr, sender_public_key, signature):\n",
    "        return (\n",
    "            '%04x' % num_of_coins +\n",
    "            sender_addr +\n",
    "            recepient_addr +\n",
    "            sender_public_key +\n",
    "            signature\n",
    "        )"
   ]
  },
  {
   "cell_type": "code",
   "execution_count": 97,
   "metadata": {},
   "outputs": [],
   "source": [
    "class Deserializer:\n",
    "    @staticmethod\n",
    "    def deserialize(transaction):\n",
    "        num_of_coins = int(transaction[0:4], 16)\n",
    "        send_addr = transaction[4:38]\n",
    "        recep_addr = transaction[38:72]\n",
    "        pub_key = transaction[72:202]\n",
    "        signt = transaction[202:]\n",
    "        return dict({\n",
    "            'num_of_coins' : num_of_coins,\n",
    "            'sender_addr' : send_addr,\n",
    "            'recepient_addr' : recep_addr,\n",
    "            'public_key' : pub_key,\n",
    "            'signature' : signt\n",
    "                    }) "
   ]
  },
  {
   "cell_type": "code",
   "execution_count": 7,
   "metadata": {},
   "outputs": [],
   "source": [
    "def address_check(addr):\n",
    "    def decode_base58(bc, length):\n",
    "        digits58 = '123456789ABCDEFGHJKLMNPQRSTUVWXYZabcdefghijkmnopqrstuvwxyz'\n",
    "        n = 0\n",
    "        for char in bc:\n",
    "            n = n * 58 + digits58.index(char)\n",
    "        return n.to_bytes(length, 'big')\n",
    "    bcbytes = decode_base58(addr, 25)\n",
    "    return bcbytes[-4:] == hashlib.sha256(hashlib.sha256(bcbytes[:-4]).digest()).digest()[:4]\n",
    "\n",
    "\n",
    "def transaction_validation(transaction, transaction_hash):\n",
    "    \n",
    "    if  not address_check(transaction['sender_addr'])                       or \\\n",
    "        not address_check(transaction['recepient_addr'])                    or \\\n",
    "        Wallet.public_key_to_addr(transaction['public_key']) != sender_addr or \\\n",
    "        not Wallet.verify_message(transaction_hash,\n",
    "                                  transaction['public_key'],\n",
    "                                  transaction['signature']):\n",
    "            return False\n",
    "    return True"
   ]
  },
  {
   "cell_type": "code",
   "execution_count": 8,
   "metadata": {},
   "outputs": [
    {
     "name": "stdout",
     "output_type": "stream",
     "text": [
      "1793b5d912e4d0c29104daed77af21cc962d81182926077cd92aa3d213131e1d\n"
     ]
    }
   ],
   "source": [
    "sender_wallet = Wallet(key_to_file=False)"
   ]
  },
  {
   "cell_type": "code",
   "execution_count": 9,
   "metadata": {},
   "outputs": [
    {
     "name": "stdout",
     "output_type": "stream",
     "text": [
      "478ad104e1f41deb556b1cb0cf6138b8d98daa34dc9a83fc07c3f87b33ba8ffb\n"
     ]
    }
   ],
   "source": [
    "recepient_wallet = Wallet(key_to_file=False)"
   ]
  },
  {
   "cell_type": "code",
   "execution_count": 10,
   "metadata": {},
   "outputs": [],
   "source": [
    "sender_prk = '75ba85e367262e9c5e8198e7917d1992bcaeaa3f1d046e413088d7cf4d134737'\n",
    "sender_pbk = sender_wallet.private_to_public(sender_prk)\n",
    "sender_addr = sender_wallet.public_key_to_addr(sender_pbk)\n",
    "\n",
    "recepient_prk = '29c9ef9ab3713f59a7d54f1101272085641459310bcfc25e61f5edc394f1736a'\n",
    "recepient_pbk = recepient_wallet.private_to_public(recepient_prk)\n",
    "recepient_addr = sender_wallet.public_key_to_addr(recepient_pbk)"
   ]
  },
  {
   "cell_type": "code",
   "execution_count": 11,
   "metadata": {},
   "outputs": [
    {
     "name": "stdout",
     "output_type": "stream",
     "text": [
      "04dbaa85101b6e47c0caa603a84f308a5d86eff6722ba4db524890b1b0a5f3d1d2d9e2f61accc4daa2c7310517c7fce4dd4b638b5de7f2bbe650061da9a042276f\n",
      "130\n"
     ]
    }
   ],
   "source": [
    "print(sender_pbk)\n",
    "print(len(sender_pbk))"
   ]
  },
  {
   "cell_type": "code",
   "execution_count": 12,
   "metadata": {},
   "outputs": [],
   "source": [
    "def testDeserialize():\n",
    "    serialized = '000f1K3tSuwpkjXpnvE6XNnS1kDcPWGTbTMEG11KahXwTdYJL2vefijiuLGezBvCrdFtt9vb04dbaa85101b6e47c0caa603a84f308a5d86eff6722ba4db524890b1b0a5f3d1d2d9e2f61accc4daa2c7310517c7fce4dd4b638b5de7f2bbe650061da9a042276f1aef90bec11a983c528fa25417dc078aa3b067bb5a3e0c19660e0931bdb34876f02a1e58e9a943e2796199a49ffb8fbfbc08bb696f19571ce3e6796c21b991a7'\n",
    "    deserialized = Deserializer.deserialize(serialized)\n",
    "    \n",
    "    assert deserialized['num_of_coins'] == 15\n",
    "    assert deserialized['sender_addr'] == '1K3tSuwpkjXpnvE6XNnS1kDcPWGTbTMEG1'\n",
    "    assert deserialized['recepient_addr'] == '1KahXwTdYJL2vefijiuLGezBvCrdFtt9vb'\n",
    "    assert deserialized['public_key'] == '04dbaa85101b6e47c0caa603a84f308a5d86eff6722ba4db524890b1b0a5f3d1d2d9e2f61accc4daa2c7310517c7fce4dd4b638b5de7f2bbe650061da9a042276f'\n",
    "    assert deserialized['signature'] == '1aef90bec11a983c528fa25417dc078aa3b067bb5a3e0c19660e0931bdb34876f02a1e58e9a943e2796199a49ffb8fbfbc08bb696f19571ce3e6796c21b991a7'"
   ]
  },
  {
   "cell_type": "code",
   "execution_count": 13,
   "metadata": {},
   "outputs": [],
   "source": [
    "# pending_pool.py\n",
    "class PendingPool:\n",
    "    def __init__(self):\n",
    "        self.transaction_pool = []\n",
    "\n",
    "    def add_transaction_to_pool(self, serialized_transaction):\n",
    "        deserialized = Deserializer.deserialize(serialized_transaction)\n",
    "        transaction = Transaction(deserialized['sender_addr'],\n",
    "                                   deserialized['recepient_addr'],\n",
    "                                   deserialized['num_of_coins'])\n",
    "        transaction_hash = transaction.transaction_hash()\n",
    "        transaction_validation(deserialized, transaction_hash)\n",
    "        self.transaction_pool.append(serialized_transaction)\n",
    "    \n",
    "    def return_last_transactions(self, num_of_transactions=3):\n",
    "            return self.transaction_pool[-num_of_transactions:]"
   ]
  },
  {
   "cell_type": "code",
   "execution_count": 57,
   "metadata": {},
   "outputs": [],
   "source": [
    "# merkle.py\n",
    "\n",
    "def merkle(hashList):\n",
    "    if len(hashList) == 1:\n",
    "        return hashList[0]\n",
    "    newHashList = []\n",
    "    for i in range(0, len(hashList)-1, 2):\n",
    "        newHashList.append(hash2(hashList[i], hashList[i+1]))\n",
    "    if len(hashList) % 2 == 1:\n",
    "        newHashList.append(hash2(hashList[-1], hashList[-1]))\n",
    "    return merkle(newHashList)\n",
    "\n",
    "def hash2(a, b):\n",
    "    s = (a + b).encode('utf-8')\n",
    "    h = hashlib.sha256(hashlib.sha256(s).digest()).digest()\n",
    "    return h.hex()"
   ]
  },
  {
   "cell_type": "code",
   "execution_count": 20,
   "metadata": {},
   "outputs": [],
   "source": [
    "serialized_tsx = '000f1K3tSuwpkjXpnvE6XNnS1kDcPWGTbTMEG11KahXwTdYJL2vefijiuLGezBvCrdFtt9vb04dbaa85101b6e47c0caa603a84f308a5d86eff6722ba4db524890b1b0a5f3d1d2d9e2f61accc4daa2c7310517c7fce4dd4b638b5de7f2bbe650061da9a042276f1aef90bec11a983c528fa25417dc078aa3b067bb5a3e0c19660e0931bdb34876f02a1e58e9a943e2796199a49ffb8fbfbc08bb696f19571ce3e6796c21b991a7'\n",
    "serialized_tsx1 = '00011K3tSuwpkjXpnvE6XNnS1kDcPWGTbTMEG11KahXwTdYJL2vefijiuLGezBvCrdFtt9vb04dbaa85101b6e47c0caa603a84f308a5d86eff6722ba4db524890b1b0a5f3d1d2d9e2f61accc4daa2c7310517c7fce4dd4b638b5de7f2bbe650061da9a042276f1aef90bec11a983c528fa25417dc078aa3b067bb5a3e0c19660e0931bdb34876f02a1e58e9a943e2796199a49ffb8fbfbc08bb696f19571ce3e6796c21b991a7'\n",
    "\n",
    "signature, publ_k = Wallet.sign_message(transaction_hash, sender_prk)"
   ]
  },
  {
   "cell_type": "code",
   "execution_count": 21,
   "metadata": {},
   "outputs": [],
   "source": [
    "serialized_tsx = Serializer.serialize(15, sender_addr, recepient_addr, sender_pbk, signature)"
   ]
  },
  {
   "cell_type": "code",
   "execution_count": 22,
   "metadata": {},
   "outputs": [],
   "source": [
    "deserialized = Deserializer.deserialize(serialized_tsx)"
   ]
  },
  {
   "cell_type": "code",
   "execution_count": 19,
   "metadata": {},
   "outputs": [],
   "source": [
    "transaction_hash = Transaction(deserialized['sender_addr'],\n",
    "                                   deserialized['recepient_addr'],\n",
    "                                   deserialized['num_of_coins']).transaction_hash()"
   ]
  },
  {
   "cell_type": "code",
   "execution_count": 23,
   "metadata": {},
   "outputs": [],
   "source": [
    "pool = PendingPool()"
   ]
  },
  {
   "cell_type": "code",
   "execution_count": 24,
   "metadata": {},
   "outputs": [],
   "source": [
    "pool.add_transaction_to_pool(serialized_tsx)\n",
    "pool.add_transaction_to_pool(serialized_tsx)\n",
    "pool.add_transaction_to_pool(serialized_tsx)"
   ]
  },
  {
   "cell_type": "code",
   "execution_count": 25,
   "metadata": {},
   "outputs": [],
   "source": [
    "pool_tsxs = pool.return_last_transactions()"
   ]
  },
  {
   "cell_type": "code",
   "execution_count": 26,
   "metadata": {},
   "outputs": [
    {
     "name": "stdout",
     "output_type": "stream",
     "text": [
      "3\n"
     ]
    }
   ],
   "source": [
    "print(len(pool_tsxs))"
   ]
  },
  {
   "cell_type": "code",
   "execution_count": 69,
   "metadata": {},
   "outputs": [],
   "source": [
    "merkle_hash = merkle(pool_tsxs)"
   ]
  },
  {
   "cell_type": "code",
   "execution_count": 70,
   "metadata": {},
   "outputs": [
    {
     "name": "stdout",
     "output_type": "stream",
     "text": [
      "df03c4435cd982f8bb28267f8648e59c9c699a8f09003463b7d40220e4840b7a\n"
     ]
    }
   ],
   "source": [
    "print(merkle_hash)"
   ]
  },
  {
   "cell_type": "code",
   "execution_count": 102,
   "metadata": {},
   "outputs": [],
   "source": [
    "# block.py\n",
    "\n",
    "class Block:\n",
    "    def __init__(self, timestamp, previous_hash, transactions, nonce=0):\n",
    "        self.timestamp = timestamp\n",
    "        self.nonce = nonce\n",
    "        self.previous_hash = previous_hash\n",
    "        self.transactions = transactions\n",
    "        self.merkle_root = merkle(transactions)\n",
    "        self.block_hash = self.hash_block()\n",
    "    \n",
    "    def set_nonse(self, nonce):\n",
    "        self.nonce = nonce\n",
    "\n",
    "    def hash_block(self):\n",
    "        s = (\n",
    "            str(self.timestamp) +\n",
    "            str(self.nonce) +\n",
    "            str(self.previous_hash) +\n",
    "            \"\".join(self.transactions) +\n",
    "            self.merkle_root\n",
    "        ).encode('utf-8')\n",
    "        hash_s = hashlib.sha256(s).digest().hex()\n",
    "        return hash_s\n",
    "    \n",
    "    def to_dict(self):\n",
    "        return {\n",
    "            'timestamp' : self.timestamp,\n",
    "            'nonce' : self.nonce,\n",
    "            'previous_hash' : self.previous_hash,\n",
    "            'transactions' : self.transactions,\n",
    "            'merkle_root' : self.merkle_root,\n",
    "            'block_hash' : self.block_hash\n",
    "        }\n",
    "    def validate_transactions(self, transactions):\n",
    "        if transactions:\n",
    "            for transaction in transactions:\n",
    "                deserialized = Deserializer.deserialize(transaction)\n",
    "                tsx = Transaction(deserialized['sender_addr'],\n",
    "                                   deserialized['recepient_addr'],\n",
    "                                   deserialized['num_of_coins'])\n",
    "                tsx_hash = tsx.transaction_hash()\n",
    "                transaction_validation(deserialized, tsx_hash)"
   ]
  },
  {
   "cell_type": "code",
   "execution_count": 90,
   "metadata": {},
   "outputs": [],
   "source": [
    "block = Block(12592875, merkle_hash, pool_tsxs)"
   ]
  },
  {
   "cell_type": "code",
   "execution_count": 88,
   "metadata": {},
   "outputs": [
    {
     "name": "stdout",
     "output_type": "stream",
     "text": [
      "309535820aaaa\n"
     ]
    }
   ],
   "source": [
    "print(str(309535820) + 'aaaa')"
   ]
  },
  {
   "cell_type": "code",
   "execution_count": 98,
   "metadata": {},
   "outputs": [],
   "source": [
    "# blockchain.py\n",
    "\n",
    "class Blockchain:\n",
    "    def __init__(self):\n",
    "        self.complexity = 2\n",
    "        self.chain = [self.genesis_block()]\n",
    "\n",
    "    def check_hash(self, h):\n",
    "        if int(h[0:self.complexity]) == 0:\n",
    "            return True\n",
    "        return False\n",
    "    def mine(self, block):\n",
    "        nonce = 0\n",
    "        h = block.hash_block()\n",
    "        while not check_hash(h):\n",
    "            nonce += 1\n",
    "            block.set_nonse(nonce)\n",
    "            h = block.hash_block()\n",
    "        if check_hash(h):\n",
    "            self.chain.append(block)\n",
    "    \n",
    "    def genesis_block(self):\n",
    "        prev_hash = '0'\n",
    "        tsx = CoinbaseTransaction()\n",
    "        \n",
    "        serialize(num_of_coins, sender_addr, recepient_addr, sender_public_key, signature)\n",
    "        \n",
    "        self.sender_address = sender_address\n",
    "        self.recepient_address = recepient_address\n",
    "        serialized_tsx = Serialize(tsx.amount, tsx.sender_address, tsx.recepient_address, )\n",
    "        genesis = Block(0, prev_hash, transaction)\n",
    "        return genesis\n",
    "    \n",
    "    def is_valid_chain(self):\n",
    "        for block in blocks:\n",
    "            block.validate_transactions()"
   ]
  },
  {
   "cell_type": "code",
   "execution_count": 103,
   "metadata": {},
   "outputs": [
    {
     "ename": "TypeError",
     "evalue": "object of type 'CoinbaseTransaction' has no len()",
     "output_type": "error",
     "traceback": [
      "\u001b[0;31m-----------------------------------------------\u001b[0m",
      "\u001b[0;31mTypeError\u001b[0m     Traceback (most recent call last)",
      "\u001b[0;32m<ipython-input-103-1725d2da2073>\u001b[0m in \u001b[0;36m<module>\u001b[0;34m\u001b[0m\n\u001b[0;32m----> 1\u001b[0;31m \u001b[0mblockchain\u001b[0m \u001b[0;34m=\u001b[0m \u001b[0mBlockchain\u001b[0m\u001b[0;34m(\u001b[0m\u001b[0;34m)\u001b[0m\u001b[0;34m\u001b[0m\u001b[0m\n\u001b[0m",
      "\u001b[0;32m<ipython-input-98-74d38bc5b537>\u001b[0m in \u001b[0;36m__init__\u001b[0;34m(self)\u001b[0m\n\u001b[1;32m      4\u001b[0m     \u001b[0;32mdef\u001b[0m \u001b[0m__init__\u001b[0m\u001b[0;34m(\u001b[0m\u001b[0mself\u001b[0m\u001b[0;34m)\u001b[0m\u001b[0;34m:\u001b[0m\u001b[0;34m\u001b[0m\u001b[0m\n\u001b[1;32m      5\u001b[0m         \u001b[0mself\u001b[0m\u001b[0;34m.\u001b[0m\u001b[0mcomplexity\u001b[0m \u001b[0;34m=\u001b[0m \u001b[0;36m2\u001b[0m\u001b[0;34m\u001b[0m\u001b[0m\n\u001b[0;32m----> 6\u001b[0;31m         \u001b[0mself\u001b[0m\u001b[0;34m.\u001b[0m\u001b[0mchain\u001b[0m \u001b[0;34m=\u001b[0m \u001b[0;34m[\u001b[0m\u001b[0mself\u001b[0m\u001b[0;34m.\u001b[0m\u001b[0mgenesis_block\u001b[0m\u001b[0;34m(\u001b[0m\u001b[0;34m)\u001b[0m\u001b[0;34m]\u001b[0m\u001b[0;34m\u001b[0m\u001b[0m\n\u001b[0m\u001b[1;32m      7\u001b[0m \u001b[0;34m\u001b[0m\u001b[0m\n\u001b[1;32m      8\u001b[0m     \u001b[0;32mdef\u001b[0m \u001b[0mcheck_hash\u001b[0m\u001b[0;34m(\u001b[0m\u001b[0mself\u001b[0m\u001b[0;34m,\u001b[0m \u001b[0mh\u001b[0m\u001b[0;34m)\u001b[0m\u001b[0;34m:\u001b[0m\u001b[0;34m\u001b[0m\u001b[0m\n",
      "\u001b[0;32m<ipython-input-98-74d38bc5b537>\u001b[0m in \u001b[0;36mgenesis_block\u001b[0;34m(self)\u001b[0m\n\u001b[1;32m     23\u001b[0m         \u001b[0mprev_hash\u001b[0m \u001b[0;34m=\u001b[0m \u001b[0;34m'0'\u001b[0m\u001b[0;34m\u001b[0m\u001b[0m\n\u001b[1;32m     24\u001b[0m         \u001b[0mtransaction\u001b[0m \u001b[0;34m=\u001b[0m \u001b[0mCoinbaseTransaction\u001b[0m\u001b[0;34m(\u001b[0m\u001b[0;34m)\u001b[0m\u001b[0;34m\u001b[0m\u001b[0m\n\u001b[0;32m---> 25\u001b[0;31m         \u001b[0mgenesis\u001b[0m \u001b[0;34m=\u001b[0m \u001b[0mBlock\u001b[0m\u001b[0;34m(\u001b[0m\u001b[0;36m0\u001b[0m\u001b[0;34m,\u001b[0m \u001b[0mprev_hash\u001b[0m\u001b[0;34m,\u001b[0m \u001b[0mtransaction\u001b[0m\u001b[0;34m)\u001b[0m\u001b[0;34m\u001b[0m\u001b[0m\n\u001b[0m\u001b[1;32m     26\u001b[0m         \u001b[0;32mreturn\u001b[0m \u001b[0mgenesis\u001b[0m\u001b[0;34m\u001b[0m\u001b[0m\n\u001b[1;32m     27\u001b[0m \u001b[0;34m\u001b[0m\u001b[0m\n",
      "\u001b[0;32m<ipython-input-102-01338fb5fc6e>\u001b[0m in \u001b[0;36m__init__\u001b[0;34m(self, timestamp, previous_hash, transactions, nonce)\u001b[0m\n\u001b[1;32m      7\u001b[0m         \u001b[0mself\u001b[0m\u001b[0;34m.\u001b[0m\u001b[0mprevious_hash\u001b[0m \u001b[0;34m=\u001b[0m \u001b[0mprevious_hash\u001b[0m\u001b[0;34m\u001b[0m\u001b[0m\n\u001b[1;32m      8\u001b[0m         \u001b[0mself\u001b[0m\u001b[0;34m.\u001b[0m\u001b[0mtransactions\u001b[0m \u001b[0;34m=\u001b[0m \u001b[0mtransactions\u001b[0m\u001b[0;34m\u001b[0m\u001b[0m\n\u001b[0;32m----> 9\u001b[0;31m         \u001b[0mself\u001b[0m\u001b[0;34m.\u001b[0m\u001b[0mmerkle_root\u001b[0m \u001b[0;34m=\u001b[0m \u001b[0mmerkle\u001b[0m\u001b[0;34m(\u001b[0m\u001b[0mtransactions\u001b[0m\u001b[0;34m)\u001b[0m\u001b[0;34m\u001b[0m\u001b[0m\n\u001b[0m\u001b[1;32m     10\u001b[0m         \u001b[0mself\u001b[0m\u001b[0;34m.\u001b[0m\u001b[0mblock_hash\u001b[0m \u001b[0;34m=\u001b[0m \u001b[0mself\u001b[0m\u001b[0;34m.\u001b[0m\u001b[0mhash_block\u001b[0m\u001b[0;34m(\u001b[0m\u001b[0;34m)\u001b[0m\u001b[0;34m\u001b[0m\u001b[0m\n\u001b[1;32m     11\u001b[0m \u001b[0;34m\u001b[0m\u001b[0m\n",
      "\u001b[0;32m<ipython-input-57-4e56cf51a784>\u001b[0m in \u001b[0;36mmerkle\u001b[0;34m(hashList)\u001b[0m\n\u001b[1;32m      2\u001b[0m \u001b[0;34m\u001b[0m\u001b[0m\n\u001b[1;32m      3\u001b[0m \u001b[0;32mdef\u001b[0m \u001b[0mmerkle\u001b[0m\u001b[0;34m(\u001b[0m\u001b[0mhashList\u001b[0m\u001b[0;34m)\u001b[0m\u001b[0;34m:\u001b[0m\u001b[0;34m\u001b[0m\u001b[0m\n\u001b[0;32m----> 4\u001b[0;31m     \u001b[0;32mif\u001b[0m \u001b[0mlen\u001b[0m\u001b[0;34m(\u001b[0m\u001b[0mhashList\u001b[0m\u001b[0;34m)\u001b[0m \u001b[0;34m==\u001b[0m \u001b[0;36m1\u001b[0m\u001b[0;34m:\u001b[0m\u001b[0;34m\u001b[0m\u001b[0m\n\u001b[0m\u001b[1;32m      5\u001b[0m         \u001b[0;32mreturn\u001b[0m \u001b[0mhashList\u001b[0m\u001b[0;34m[\u001b[0m\u001b[0;36m0\u001b[0m\u001b[0;34m]\u001b[0m\u001b[0;34m\u001b[0m\u001b[0m\n\u001b[1;32m      6\u001b[0m     \u001b[0mnewHashList\u001b[0m \u001b[0;34m=\u001b[0m \u001b[0;34m[\u001b[0m\u001b[0;34m]\u001b[0m\u001b[0;34m\u001b[0m\u001b[0m\n",
      "\u001b[0;31mTypeError\u001b[0m: object of type 'CoinbaseTransaction' has no len()"
     ]
    }
   ],
   "source": [
    "blockchain = Blockchain()"
   ]
  },
  {
   "cell_type": "code",
   "execution_count": null,
   "metadata": {},
   "outputs": [],
   "source": []
  }
 ],
 "metadata": {
  "kernelspec": {
   "display_name": "Python 3",
   "language": "python",
   "name": "python3"
  },
  "language_info": {
   "codemirror_mode": {
    "name": "ipython",
    "version": 3
   },
   "file_extension": ".py",
   "mimetype": "text/x-python",
   "name": "python",
   "nbconvert_exporter": "python",
   "pygments_lexer": "ipython3",
   "version": "3.6.2"
  }
 },
 "nbformat": 4,
 "nbformat_minor": 2
}
