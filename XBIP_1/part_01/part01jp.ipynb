{
 "cells": [
  {
   "cell_type": "code",
   "execution_count": 309,
   "metadata": {},
   "outputs": [],
   "source": [
    "import secrets\n",
    "import time\n",
    "import random\n",
    "import hashlib\n",
    "import base58\n",
    "\n",
    "\n",
    "import ecdsa\n",
    "import binascii\n",
    "\n",
    "import codecs\n",
    "\n",
    "import struct\n",
    "\n",
    "import re\n",
    "import datetime\n",
    "from time import gmtime, strftime\n",
    "\n",
    "from merkletools import MerkleTools\n",
    "import argparse"
   ]
  },
  {
   "cell_type": "code",
   "execution_count": null,
   "metadata": {},
   "outputs": [],
   "source": [
    "# wallet-cli.py\n",
    "\n"
   ]
  },
  {
   "cell_type": "code",
   "execution_count": 229,
   "metadata": {},
   "outputs": [
    {
     "name": "stdout",
     "output_type": "stream",
     "text": [
      "2019-01-25 17:52:39.785631\n",
      "2019-01-25 15:52:39\n"
     ]
    }
   ],
   "source": [
    "print(datetime.datetime.now())\n",
    "print()"
   ]
  },
  {
   "cell_type": "code",
   "execution_count": 319,
   "metadata": {},
   "outputs": [],
   "source": [
    "# wallet.py\n",
    "\n",
    "class KeyGenerator():\n",
    "    def __init__(self):\n",
    "        self.CURVE_ORDER = int('FFFFFFFFFFFFFFFFFFFFFFFFFFFFFFFEBAAEDCE6AF48A03BBFD25E8CD0364141', 16)\n",
    "        self.POOL_SIZE = 256\n",
    "        self.KEY_BYTES = 32\n",
    "        self.pool = [0] * self.POOL_SIZE\n",
    "        self.pool_pointer = 0\n",
    "        self.prng_state = None\n",
    "        self.__init_pool()\n",
    "        \n",
    "    def __init_pool(self):\n",
    "        for i in range(self.POOL_SIZE):\n",
    "            random_byte = secrets.randbits(8)\n",
    "            self.__seed_byte(random_byte)\n",
    "        time_int = int(time.time())\n",
    "        self.__seed_int(time_int)\n",
    "    \n",
    "    def __seed_int(self, n):\n",
    "        self.__seed_byte(n)\n",
    "        self.__seed_byte(n >> 8)\n",
    "        self.__seed_byte(n >> 16)\n",
    "        self.__seed_byte(n >> 24)\n",
    "    \n",
    "    def __seed_byte(self, n):\n",
    "        self.pool[self.pool_pointer] ^= n & 255\n",
    "        self.pool_pointer += 1\n",
    "        if self.pool_pointer >= self.POOL_SIZE:\n",
    "            self.pool_pointer = 0\n",
    "    \n",
    "    def seed_input(self, str_input):\n",
    "        time_int = int(time.time())\n",
    "        self.__seed_int(time_int)\n",
    "        for char in str_input:\n",
    "            char_code = ord(char)\n",
    "            self.__seed_byte(char_code)\n",
    "\n",
    "    def generate_key(self):\n",
    "        big_int = self.__generate_big_int()\n",
    "        big_int %= (self.CURVE_ORDER - 1)\n",
    "        big_int += 1\n",
    "        key = hex(big_int)[2:]\n",
    "        return key\n",
    "    \n",
    "    def __generate_big_int(self):\n",
    "        if self.prng_state is None:\n",
    "            seed = int.from_bytes(self.pool, byteorder='big', signed=False)\n",
    "            random.seed(seed)\n",
    "            self.prng_state = random.getstate()\n",
    "            random.setstate(self.prng_state)\n",
    "            big_int = random.getrandbits(self.KEY_BYTES * 8)\n",
    "            self.prng_state = random.getstate()\n",
    "            return big_int\n",
    "\n",
    "class Wallet:\n",
    "    def __init__(self, seed=None, key_to_file=False):\n",
    "        self.__create_priv_key(seed, key_to_file)\n",
    "        self.public_keys = []\n",
    "\n",
    "    def __create_priv_key(self, seed=None, key_to_file=False):\n",
    "        keygen = KeyGenerator()\n",
    "        if seed:\n",
    "            keygen.seed_input(seed)\n",
    "        key = keygen.generate_key()\n",
    "        if key_to_file:\n",
    "            f = open(\"privkey.pem\", \"w+\")\n",
    "            f.write(key)\n",
    "            f.close()\n",
    "        else:\n",
    "            print(key)\n",
    "        del key\n",
    "        del keygen\n",
    "    \n",
    "    @staticmethod\n",
    "    def base58(address_hex):\n",
    "        alphabet = '123456789ABCDEFGHJKLMNPQRSTUVWXYZabcdefghijkmnopqrstuvwxyz'\n",
    "        b58_string = ''\n",
    "        leading_zeros = len(address_hex) - len(address_hex.lstrip('0'))\n",
    "        address_int = int(address_hex, 16)\n",
    "        while address_int > 0:\n",
    "            digit = address_int % 58\n",
    "            digit_char = alphabet[digit]\n",
    "            b58_string = digit_char + b58_string\n",
    "            address_int //= 58\n",
    "        ones = leading_zeros // 2\n",
    "        for one in range(ones):\n",
    "            b58_string = '1' + b58_string\n",
    "        return b58_string\n",
    "    \n",
    "    @staticmethod\n",
    "    def private_to_public(private_key, is_print=False):\n",
    "        pk_bytes = codecs.decode(private_key, 'hex')\n",
    "        \n",
    "        key = ecdsa.SigningKey.from_string(pk_bytes, curve=ecdsa.SECP256k1).verifying_key\n",
    "        key_bytes = key.to_string()\n",
    "        key_hex = codecs.encode(key_bytes, 'hex')\n",
    "        btc_byte = b'04'\n",
    "        public_key = btc_byte + key_hex\n",
    "        \n",
    "        if is_print:\n",
    "            print(public_key.decode('utf-8'))\n",
    "        \n",
    "        return public_key.decode('utf-8')\n",
    "    \n",
    "    @staticmethod\n",
    "    def public_key_to_addr(key):\n",
    "        public_key_bytes = codecs.decode(key, 'hex')\n",
    "\n",
    "        # Run SHA256 for the public key\n",
    "        sha256_bpk = hashlib.sha256(public_key_bytes)\n",
    "        sha256_bpk_digest = sha256_bpk.digest()\n",
    "\n",
    "        # Run ripemd160 for the SHA256\n",
    "        ripemd160_bpk = hashlib.new('ripemd160')\n",
    "        ripemd160_bpk.update(sha256_bpk_digest)\n",
    "        ripemd160_bpk_digest = ripemd160_bpk.digest()\n",
    "        ripemd160_bpk_hex = codecs.encode(ripemd160_bpk_digest, 'hex')\n",
    "\n",
    "        # Add network byte\n",
    "        network_byte = b'00'\n",
    "        network_bitcoin_public_key = network_byte + ripemd160_bpk_hex\n",
    "        network_bitcoin_public_key_bytes = codecs.decode(network_bitcoin_public_key, 'hex')\n",
    "\n",
    "        # Double SHA256 to get checksum\n",
    "        sha256_2_nbpk_digest = hashlib.sha256(hashlib.sha256(network_bitcoin_public_key_bytes).digest()).digest()\n",
    "        sha256_2_hex = codecs.encode(sha256_2_nbpk_digest, 'hex')\n",
    "        checksum = sha256_2_hex[:8]\n",
    "\n",
    "        # Concatenate public key and checksum to get the address\n",
    "        address_hex = (network_bitcoin_public_key + checksum).decode('utf-8')\n",
    "        address = Wallet.base58(address_hex)\n",
    "        return address\n",
    "    \n",
    "    @staticmethod\n",
    "    def private_key_to_addr(key):\n",
    "        return Wallet.public_key_to_addr(private_to_public(key))\n",
    "    \n",
    "    @staticmethod\n",
    "    def priv_to_WIF(key):\n",
    "        vers_key = \"80\" + key\n",
    "        hash_1 = hashlib.sha256(binascii.unhexlify(vers_key)).hexdigest()\n",
    "        hash_2 = hashlib.sha256(binascii.unhexlify(hash_1)).hexdigest()\n",
    "        wif = vers_key + str(hash_2)[:8]\n",
    "        base_wif = base58.b58encode(binascii.unhexlify(wif))\n",
    "        wif = base_wif.decode('utf-8')\n",
    "        return wif\n",
    "    \n",
    "    @staticmethod\n",
    "    def WIF_to_priv(privkey):\n",
    "        base_decoded = base58.b58decode(privkey).hex()\n",
    "        versioned_key = base_decoded[:-8]\n",
    "        checksum = base_decoded[-8:]\n",
    "        sha_1 = hashlib.sha256(binascii.unhexlify(versioned_key)).digest()\n",
    "        sha_2 = hashlib.sha256(sha_1).hexdigest()\n",
    "        ver_checksum = sha_2[:8]\n",
    "        if checksum != ver_checksum:\n",
    "            return None\n",
    "        version = versioned_key[:2]\n",
    "        private_key = versioned_key[2:]\n",
    "        return private_key\n",
    "        \n",
    "    \n",
    "    @staticmethod\n",
    "    def sign_message(message, private_key):\n",
    "        key_bytes = codecs.decode(private_key, 'hex')\n",
    "        sk = ecdsa.SigningKey.from_string(key_bytes, curve=ecdsa.SECP256k1)\n",
    "        signed_msg = sk.sign(message.encode('utf-8'))\n",
    "        return (signed_msg.hex(), Wallet.private_to_public(private_key))\n",
    "    \n",
    "    @staticmethod\n",
    "    def verify_message(message, public_key, signature):\n",
    "        vk = ecdsa.VerifyingKey.from_string(bytes.fromhex(public_key[2:]), curve=ecdsa.SECP256k1)\n",
    "        return (vk.verify(bytes.fromhex(signature), message.encode('utf-8')))"
   ]
  },
  {
   "cell_type": "code",
   "execution_count": 320,
   "metadata": {},
   "outputs": [
    {
     "name": "stdout",
     "output_type": "stream",
     "text": [
      "0000000000000000000000000000000000000000000000000000000000000000\n",
      "800000000000000000000000000000000000000000000000000000000000000000\n",
      "ce145d282834c009c24410812a60588c1085b63d65a7effc2e0a5e3a2e21b236\n",
      "0565fba7ebf8143516e0222d7950c28589a34c3ee144c3876ceb01bfb0e9bb70\n",
      "8000000000000000000000000000000000000000000000000000000000000000000565fba7\n",
      "-------\n",
      "5HpHagT65TZzG1PH3CSu63k8DbpvD8s5ip4nEB3kEsreAbuatmU\n"
     ]
    }
   ],
   "source": [
    "key = '0000000000000000000000000000000000000000000000000000000000000000'\n",
    "sender_wif = Wallet.priv_to_WIF(key)\n",
    "print(sender_wif)\n",
    "# print(sender_wif.hex())"
   ]
  },
  {
   "cell_type": "code",
   "execution_count": 190,
   "metadata": {},
   "outputs": [
    {
     "name": "stdout",
     "output_type": "stream",
     "text": [
      "0000000000000000000000000000000000000000000000000000000000000000\n"
     ]
    }
   ],
   "source": [
    "privk = Wallet.WIF_to_priv(sender_wif)\n",
    "print(privk)"
   ]
  },
  {
   "cell_type": "code",
   "execution_count": 5,
   "metadata": {},
   "outputs": [],
   "source": [
    "class Transaction:\n",
    "\n",
    "    def __init__(self, sender_address=None, recepient_address=None, amount=None):\n",
    "        if not sender_address:\n",
    "            raise ValueError(\"No sender address !\")\n",
    "        if not recepient_address:\n",
    "            raise ValueError(\"No recepient address !\")\n",
    "        if not amount:\n",
    "            raise ValueError(\"No amount !\")\n",
    "        if amount <= 0:\n",
    "            raise ValueError(\"Amount must be > 0 !\")\n",
    "\n",
    "        self.sender_address = sender_address\n",
    "        self.recepient_address = recepient_address\n",
    "        self.amount = amount\n",
    "\n",
    "    def to_dict(self):\n",
    "        return dict({'sender_address': self.sender_address,\n",
    "                            'recipient_address': self.recipient_address,\n",
    "                            'value': self.value})\n",
    "\n",
    "    def transaction_hash(self):\n",
    "        tsx = self.sender_address + self.recepient_address + '%04x' % self.amount\n",
    "        tsx_bytes = codecs.encode(bytes(tsx, encoding='utf-8'), 'hex')\n",
    "        transaction_hash = hashlib.sha256(tsx_bytes).digest()\n",
    "        return transaction_hash.hex()\n",
    "\n",
    "class CoinbaseTransaction(Transaction):\n",
    "    def __init__(self, amount=50):\n",
    "        super(CoinbaseTransaction, self).__init__(\n",
    "            '0000000000000000000000000000000000',\n",
    "            '0000000000000000000000000000000000',\n",
    "            amount)\n"
   ]
  },
  {
   "cell_type": "code",
   "execution_count": 6,
   "metadata": {},
   "outputs": [],
   "source": [
    "class Serializer:\n",
    "    @staticmethod\n",
    "    def serialize(num_of_coins, sender_addr, recepient_addr, sender_public_key, signature):\n",
    "        return (\n",
    "            '%04x' % num_of_coins +\n",
    "            sender_addr +\n",
    "            recepient_addr +\n",
    "            sender_public_key +\n",
    "            signature\n",
    "        )"
   ]
  },
  {
   "cell_type": "code",
   "execution_count": 7,
   "metadata": {},
   "outputs": [],
   "source": [
    "class Deserializer:\n",
    "    @staticmethod\n",
    "    def deserialize(transaction):\n",
    "        num_of_coins = int(transaction[0:4], 16)\n",
    "        send_addr = transaction[4:38]\n",
    "        recep_addr = transaction[38:72]\n",
    "        pub_key = transaction[72:202]\n",
    "        signt = transaction[202:]\n",
    "        return dict({\n",
    "            'num_of_coins' : num_of_coins,\n",
    "            'sender_addr' : send_addr,\n",
    "            'recepient_addr' : recep_addr,\n",
    "            'public_key' : pub_key,\n",
    "            'signature' : signt\n",
    "                    }) "
   ]
  },
  {
   "cell_type": "code",
   "execution_count": 8,
   "metadata": {},
   "outputs": [],
   "source": [
    "def address_check(addr):\n",
    "    def decode_base58(bc, length):\n",
    "        digits58 = '123456789ABCDEFGHJKLMNPQRSTUVWXYZabcdefghijkmnopqrstuvwxyz'\n",
    "        n = 0\n",
    "        for char in bc:\n",
    "            n = n * 58 + digits58.index(char)\n",
    "        return n.to_bytes(length, 'big')\n",
    "    bcbytes = decode_base58(addr, 25)\n",
    "    return bcbytes[-4:] == hashlib.sha256(hashlib.sha256(bcbytes[:-4]).digest()).digest()[:4]\n",
    "\n",
    "\n",
    "def transaction_validation(transaction, transaction_hash):\n",
    "    \n",
    "    if  not address_check(transaction['sender_addr'])                       or \\\n",
    "        not address_check(transaction['recepient_addr'])                    or \\\n",
    "        Wallet.public_key_to_addr(transaction['public_key']) != sender_addr or \\\n",
    "        not Wallet.verify_message(transaction_hash,\n",
    "                                  transaction['public_key'],\n",
    "                                  transaction['signature']):\n",
    "            return False\n",
    "    return True"
   ]
  },
  {
   "cell_type": "code",
   "execution_count": 39,
   "metadata": {},
   "outputs": [],
   "source": [
    "sender_wallet = Wallet(key_to_file=True)"
   ]
  },
  {
   "cell_type": "code",
   "execution_count": 10,
   "metadata": {},
   "outputs": [
    {
     "name": "stdout",
     "output_type": "stream",
     "text": [
      "38ea6f44b060c6e99c1c29c898fcab5a3ec087c198a6abd68d48fda518436f74\n"
     ]
    }
   ],
   "source": [
    "recepient_wallet = Wallet(key_to_file=False)"
   ]
  },
  {
   "cell_type": "code",
   "execution_count": 40,
   "metadata": {},
   "outputs": [],
   "source": [
    "sender_prk = '0a56184c7a383d8bcce0c78e6e7a4b4b161b2f80a126caa48bde823a4625521f'\n",
    "sender_pbk = sender_wallet.private_to_public(sender_prk)\n",
    "sender_addr = sender_wallet.public_key_to_addr(sender_pbk)\n",
    "\n",
    "recepient_prk = '38ea6f44b060c6e99c1c29c898fcab5a3ec087c198a6abd68d48fda518436f74'\n",
    "recepient_pbk = recepient_wallet.private_to_public(recepient_prk)\n",
    "recepient_addr = sender_wallet.public_key_to_addr(recepient_pbk)"
   ]
  },
  {
   "cell_type": "code",
   "execution_count": 13,
   "metadata": {},
   "outputs": [],
   "source": [
    "def testDeserialize():\n",
    "    serialized = '000f1K3tSuwpkjXpnvE6XNnS1kDcPWGTbTMEG11KahXwTdYJL2vefijiuLGezBvCrdFtt9vb04dbaa85101b6e47c0caa603a84f308a5d86eff6722ba4db524890b1b0a5f3d1d2d9e2f61accc4daa2c7310517c7fce4dd4b638b5de7f2bbe650061da9a042276f1aef90bec11a983c528fa25417dc078aa3b067bb5a3e0c19660e0931bdb34876f02a1e58e9a943e2796199a49ffb8fbfbc08bb696f19571ce3e6796c21b991a7'\n",
    "    deserialized = Deserializer.deserialize(serialized)\n",
    "    \n",
    "    assert deserialized['num_of_coins'] == 15\n",
    "    assert deserialized['sender_addr'] == '1K3tSuwpkjXpnvE6XNnS1kDcPWGTbTMEG1'\n",
    "    assert deserialized['recepient_addr'] == '1KahXwTdYJL2vefijiuLGezBvCrdFtt9vb'\n",
    "    assert deserialized['public_key'] == '04dbaa85101b6e47c0caa603a84f308a5d86eff6722ba4db524890b1b0a5f3d1d2d9e2f61accc4daa2c7310517c7fce4dd4b638b5de7f2bbe650061da9a042276f'\n",
    "    assert deserialized['signature'] == '1aef90bec11a983c528fa25417dc078aa3b067bb5a3e0c19660e0931bdb34876f02a1e58e9a943e2796199a49ffb8fbfbc08bb696f19571ce3e6796c21b991a7'"
   ]
  },
  {
   "cell_type": "code",
   "execution_count": 14,
   "metadata": {},
   "outputs": [],
   "source": [
    "# pending_pool.py\n",
    "class PendingPool:\n",
    "    def __init__(self):\n",
    "        self.transaction_pool = []\n",
    "\n",
    "    def add_transaction_to_pool(self, serialized_transaction):\n",
    "        deserialized = Deserializer.deserialize(serialized_transaction)\n",
    "        transaction = Transaction(deserialized['sender_addr'],\n",
    "                                   deserialized['recepient_addr'],\n",
    "                                   deserialized['num_of_coins'])\n",
    "        transaction_hash = transaction.transaction_hash()\n",
    "        transaction_validation(deserialized, transaction_hash)\n",
    "        self.transaction_pool.append(serialized_transaction)\n",
    "    \n",
    "    def return_last_transactions(self, num_of_transactions=3):\n",
    "            return self.transaction_pool[-num_of_transactions:]"
   ]
  },
  {
   "cell_type": "code",
   "execution_count": 154,
   "metadata": {},
   "outputs": [],
   "source": [
    "# merkle.py\n",
    "\n",
    "def merkle(hashList):\n",
    "    if len(hashList) == 1:\n",
    "        return hashList[0]\n",
    "    newHashList = []\n",
    "    for i in range(0, len(hashList)-1, 2):\n",
    "        newHashList.append(hash2(hashList[i], hashList[i+1]))\n",
    "    if len(hashList) % 2 == 1:\n",
    "        newHashList.append(hash2(hashList[-1], hashList[-1]))\n",
    "    return merkle(newHashList)\n",
    "\n",
    "def hash2(a, b):\n",
    "    s = (a + b).encode('utf-8')\n",
    "    h = hashlib.sha256(hashlib.sha256(s).digest()).digest()\n",
    "    return h.hex()"
   ]
  },
  {
   "cell_type": "code",
   "execution_count": 26,
   "metadata": {},
   "outputs": [],
   "source": [
    "serialized_tsx = '000f1K3tSuwpkjXpnvE6XNnS1kDcPWGTbTMEG11KahXwTdYJL2vefijiuLGezBvCrdFtt9vb04dbaa85101b6e47c0caa603a84f308a5d86eff6722ba4db524890b1b0a5f3d1d2d9e2f61accc4daa2c7310517c7fce4dd4b638b5de7f2bbe650061da9a042276f1aef90bec11a983c528fa25417dc078aa3b067bb5a3e0c19660e0931bdb34876f02a1e58e9a943e2796199a49ffb8fbfbc08bb696f19571ce3e6796c21b991a7'\n",
    "serialized_tsx1 = '00011K3tSuwpkjXpnvE6XNnS1kDcPWGTbTMEG11KahXwTdYJL2vefijiuLGezBvCrdFtt9vb04dbaa85101b6e47c0caa603a84f308a5d86eff6722ba4db524890b1b0a5f3d1d2d9e2f61accc4daa2c7310517c7fce4dd4b638b5de7f2bbe650061da9a042276f1aef90bec11a983c528fa25417dc078aa3b067bb5a3e0c19660e0931bdb34876f02a1e58e9a943e2796199a49ffb8fbfbc08bb696f19571ce3e6796c21b991a7'\n",
    "\n",
    "signature, publ_k = Wallet.sign_message(transaction_hash, sender_prk)"
   ]
  },
  {
   "cell_type": "code",
   "execution_count": 27,
   "metadata": {},
   "outputs": [],
   "source": [
    "serialized_tsx = Serializer.serialize(15, sender_addr, recepient_addr, sender_pbk, signature)"
   ]
  },
  {
   "cell_type": "code",
   "execution_count": 18,
   "metadata": {},
   "outputs": [],
   "source": [
    "deserialized = Deserializer.deserialize(serialized_tsx)"
   ]
  },
  {
   "cell_type": "code",
   "execution_count": 25,
   "metadata": {},
   "outputs": [],
   "source": [
    "transaction_hash = Transaction(deserialized['sender_addr'],\n",
    "                                   deserialized['recepient_addr'],\n",
    "                                   deserialized['num_of_coins']).transaction_hash()"
   ]
  },
  {
   "cell_type": "code",
   "execution_count": 28,
   "metadata": {},
   "outputs": [],
   "source": [
    "pool = PendingPool()"
   ]
  },
  {
   "cell_type": "code",
   "execution_count": 29,
   "metadata": {},
   "outputs": [],
   "source": [
    "pool.add_transaction_to_pool(serialized_tsx)\n",
    "pool.add_transaction_to_pool(serialized_tsx)\n",
    "pool.add_transaction_to_pool(serialized_tsx)"
   ]
  },
  {
   "cell_type": "code",
   "execution_count": 30,
   "metadata": {},
   "outputs": [],
   "source": [
    "pool_tsxs = pool.return_last_transactions()"
   ]
  },
  {
   "cell_type": "code",
   "execution_count": 50,
   "metadata": {},
   "outputs": [
    {
     "name": "stdout",
     "output_type": "stream",
     "text": [
      "3\n",
      "128\n"
     ]
    }
   ],
   "source": [
    "print(len(pool_tsxs))\n",
    "print(len(signature))"
   ]
  },
  {
   "cell_type": "code",
   "execution_count": 156,
   "metadata": {},
   "outputs": [],
   "source": [
    "merkle_hash = merkle(pool_tsxs)"
   ]
  },
  {
   "cell_type": "code",
   "execution_count": 157,
   "metadata": {},
   "outputs": [
    {
     "name": "stdout",
     "output_type": "stream",
     "text": [
      "40207dc5fa2c37c9d50d60487bd5a59032f43a62fc009b4c7cb70b2a237c4211\n"
     ]
    }
   ],
   "source": [
    "print(merkle_hash)"
   ]
  },
  {
   "cell_type": "code",
   "execution_count": 160,
   "metadata": {},
   "outputs": [
    {
     "name": "stdout",
     "output_type": "stream",
     "text": [
      "3e985fbb2af7b714f373fda8e905d21de47d60c2e72795c9e8f07c11f7e3d492\n"
     ]
    }
   ],
   "source": [
    "a = hashlib.sha256('a'.encode('utf-8')).hexdigest()\n",
    "b = hashlib.sha256('b'.encode('utf-8')).hexdigest()\n",
    "c = hashlib.sha256('c'.encode('utf-8')).hexdigest()\n",
    "d = hashlib.sha256('d'.encode('utf-8')).hexdigest()\n",
    "m_h = merkle([a, b, c, d])\n",
    "print(m_h)"
   ]
  },
  {
   "cell_type": "code",
   "execution_count": 34,
   "metadata": {},
   "outputs": [],
   "source": [
    "# block.py\n",
    "\n",
    "class Block:\n",
    "    def __init__(self, timestamp, previous_hash, transactions, nonce=0):\n",
    "        self.timestamp = timestamp\n",
    "        self.nonce = nonce\n",
    "        self.previous_hash = previous_hash\n",
    "        self.transactions = transactions\n",
    "        self.merkle_root = merkle(transactions)\n",
    "        self.block_hash = self.hash_block()\n",
    "    \n",
    "    def set_nonse(self, nonce):\n",
    "        self.nonce = nonce\n",
    "\n",
    "    def hash_block(self):\n",
    "        s = (\n",
    "            str(self.timestamp) +\n",
    "            str(self.nonce) +\n",
    "            str(self.previous_hash) +\n",
    "            \"\".join(self.transactions) +\n",
    "            self.merkle_root\n",
    "        ).encode('utf-8')\n",
    "        hash_s = hashlib.sha256(s).digest().hex()\n",
    "        return hash_s\n",
    "    \n",
    "    def to_dict(self):\n",
    "        return {\n",
    "            'timestamp' : self.timestamp,\n",
    "            'nonce' : self.nonce,\n",
    "            'previous_hash' : self.previous_hash,\n",
    "            'transactions' : self.transactions,\n",
    "            'merkle_root' : self.merkle_root,\n",
    "            'block_hash' : self.block_hash\n",
    "        }\n",
    "    def validate_transactions(self, transactions):\n",
    "        if transactions:\n",
    "            for transaction in transactions:\n",
    "                deserialized = Deserializer.deserialize(transaction)\n",
    "                tsx = Transaction(deserialized['sender_addr'],\n",
    "                                   deserialized['recepient_addr'],\n",
    "                                   deserialized['num_of_coins'])\n",
    "                tsx_hash = tsx.transaction_hash()\n",
    "                transaction_validation(deserialized, tsx_hash)"
   ]
  },
  {
   "cell_type": "code",
   "execution_count": 35,
   "metadata": {},
   "outputs": [],
   "source": [
    "block = Block(12592875, merkle_hash, pool_tsxs)"
   ]
  },
  {
   "cell_type": "code",
   "execution_count": 244,
   "metadata": {},
   "outputs": [
    {
     "data": {
      "text/plain": [
       "1548432861"
      ]
     },
     "execution_count": 244,
     "metadata": {},
     "output_type": "execute_result"
    }
   ],
   "source": [
    "t = time.time()\n",
    "int(t)"
   ]
  },
  {
   "cell_type": "code",
   "execution_count": 83,
   "metadata": {},
   "outputs": [
    {
     "name": "stdout",
     "output_type": "stream",
     "text": [
      "141\n",
      "7\n"
     ]
    }
   ],
   "source": [
    "sign = 'Ifucantalkwithcrowdsandkeepurvirtue,'\n",
    "sign += 'OrwalkwithKingsnorlosethecommontouch'\n",
    "sign += 'Ifneitherfoesnorlovingfriendscanhurtu'\n",
    "sign += 'Ifallmencountwithubutnonetoomuch'\n",
    "print(len(sign))\n",
    "print(len('ceasar7'))\n",
    "s = 'pmfvbjhumpsaolbumvynpcpuntpudpaozeafzljzdvyaovmkpzahujlybufvbyzpzaollhyaohuklclyfaopunaohapupahukdopjopztvylfvbsilhttfzvuceasar7'"
   ]
  },
  {
   "cell_type": "code",
   "execution_count": 245,
   "metadata": {},
   "outputs": [],
   "source": [
    "# blockchain.py\n",
    "\n",
    "class Blockchain:\n",
    "    def __init__(self):\n",
    "        self.complexity = 2\n",
    "        self.chain = [self.genesis_block()]\n",
    "        self.nodes = []\n",
    "\n",
    "    def check_hash(self, h):\n",
    "        if h[0:self.complexity] == '0' * self.complexity:\n",
    "            return True\n",
    "        return False\n",
    "    def mine(self, block):\n",
    "        nonce = 0\n",
    "        h = block.hash_block()\n",
    "        while not self.check_hash(h):\n",
    "            nonce += 1\n",
    "            block.set_nonse(nonce)\n",
    "            h = block.hash_block()\n",
    "            time_str = strftime(\"%Y-%m-%d %H:%M:%S\", gmtime())\n",
    "            print('[' + time_str + '] nonce=' + str(block.nonce) + ', hash=' + h)\n",
    "        if self.check_hash(h):\n",
    "            self.chain.append(block)\n",
    "    \n",
    "    def genesis_block(self):\n",
    "        prev_hash = '0'\n",
    "        tsx = CoinbaseTransaction()\n",
    "        transaction = Transaction(tsx.sender_address, tsx.recepient_address, tsx.amount)\n",
    "        signature = 'pmfvbjhumpsaolbumvynpcpuntpudpaozeafzljzdvyaovmkpzahujlybufvbyzpzaollhyaohuklclyfaopunaohapupahukdopjopztvylfvbsilhttfzvuceasar7'\n",
    "        public_key = signature\n",
    "        serialized_tsx = Serializer.serialize(tsx.amount, tsx.sender_address, tsx.recepient_address, public_key, signature)\n",
    "        genesis = Block(0, prev_hash, transaction.transaction_hash())\n",
    "        return genesis\n",
    "    \n",
    "    def is_valid_chain(self):\n",
    "        for block in blocks:\n",
    "            block.validate_transactions()\n",
    "    \n",
    "    def add_node(self, new_node):\n",
    "        regex = r'([0-9]{1,3})[.]([0-9]{1,3})[.]([0-9]{1,3})[.]([0-9]{1,3})[:]([0-9]{4,})'\n",
    "        \n",
    "        m = re.findall(regex, new_node)\n",
    "        if m[0] != None:\n",
    "            if (\n",
    "                int(m[0][0]) <= 255 and\n",
    "                int(m[0][1]) <= 255 and\n",
    "                int(m[0][2]) <= 255 and\n",
    "                int(m[0][3]) <= 255\n",
    "            ):\n",
    "                print(new_node + ' added to node pool')\n",
    "                self.nodes.append(new_node)\n",
    "            else:\n",
    "                print(\"Wrong node format !\")\n"
   ]
  },
  {
   "cell_type": "code",
   "execution_count": 192,
   "metadata": {},
   "outputs": [],
   "source": [
    "ip = '192.168.0.2:5000'"
   ]
  },
  {
   "cell_type": "code",
   "execution_count": 193,
   "metadata": {},
   "outputs": [],
   "source": [
    "regex = r'([0-9]{1,3})[.]([0-9]{1,3})[.]([0-9]{1,3})[.]([0-9]{1,3})[:]([0-9]{4,})'"
   ]
  },
  {
   "cell_type": "code",
   "execution_count": 216,
   "metadata": {},
   "outputs": [
    {
     "data": {
      "text/plain": [
       "2"
      ]
     },
     "execution_count": 216,
     "metadata": {},
     "output_type": "execute_result"
    }
   ],
   "source": [
    "m = re.findall(regex, ip)\n",
    "int(m[0][3])"
   ]
  },
  {
   "cell_type": "code",
   "execution_count": 311,
   "metadata": {},
   "outputs": [],
   "source": [
    "blockchain = Blockchain()"
   ]
  },
  {
   "cell_type": "code",
   "execution_count": 312,
   "metadata": {},
   "outputs": [
    {
     "name": "stdout",
     "output_type": "stream",
     "text": [
      "[2019-01-25 16:52:16] nonce=1, hash=917731ada7be9b3f8481ed1beffabc995dae5aea4d60329eef6c19116226a2b4\n",
      "[2019-01-25 16:52:16] nonce=2, hash=3776cdf518380ae605ec5557a5ec6321bb95f5f3c21807d7ae9dfb21f74ad5c5\n",
      "[2019-01-25 16:52:16] nonce=3, hash=439248d14d80b64ea542fb1452b5dd2dcb4f8bff3258a902b1c8d95a2a06c66d\n",
      "[2019-01-25 16:52:16] nonce=4, hash=0ed887085b5e66580359a67af97cbbcd82f4f732f2498a316f69c9bdf0d8c3bb\n",
      "[2019-01-25 16:52:16] nonce=5, hash=8ca6983f3ddaa931a3e123a36e1eea0909ae0c778bb3de6e2bedccd6635658b2\n",
      "[2019-01-25 16:52:16] nonce=6, hash=3c2f8c16555f1c720c49a8333832e2632dcb5cfa08a252ee5e45b51dee9ca892\n",
      "[2019-01-25 16:52:16] nonce=7, hash=36061b338b1acca56314b32fbca6a85399fdb1293ad993b2d4a503cc7d5f57ab\n",
      "[2019-01-25 16:52:16] nonce=8, hash=037b00f788b2aae0c67fca15bdffa4345663d0dbacc9f6e9e7b04157d84e264e\n",
      "[2019-01-25 16:52:16] nonce=9, hash=9e30b3f3ebdc8f7b13d8898a1585bb6b36ff23113e37c7f07df9bf98730d87d9\n",
      "[2019-01-25 16:52:16] nonce=10, hash=30d789ef1e9f99a46ab284f5f023082942df1725939ac9827d953f6e8b465cc1\n",
      "[2019-01-25 16:52:16] nonce=11, hash=50ff5fa5ca01b339a9396d49afe3d18b29f23a18a25652826fa174d3a6a59478\n",
      "[2019-01-25 16:52:16] nonce=12, hash=c34b915aed308f2fe071d19ec05d09f22c13cc0eeaeb62d124079b7be0955101\n",
      "[2019-01-25 16:52:16] nonce=13, hash=01d28a803ff87f68f05c96acb383b24ef18ab815bd156a5d3c81cbb43dbeee51\n",
      "[2019-01-25 16:52:16] nonce=14, hash=568e83e7e8bee6c11226b6de8484d15b7a399477c255b2fa53c294ef69501bde\n",
      "[2019-01-25 16:52:16] nonce=15, hash=48c8c1ea3bd655392dca747249f41c8dd807a59c676d0d572e106797c4062fe9\n",
      "[2019-01-25 16:52:16] nonce=16, hash=4a54d918dce270f42d898afbb98005fd407debf1adaa5a68299305f1740bbdf5\n",
      "[2019-01-25 16:52:16] nonce=17, hash=5e324784d49732281b7e2341bb6e34d8693f0245555f5fb703e872ab3a594e4a\n",
      "[2019-01-25 16:52:16] nonce=18, hash=ce3ffae91846f1bc243e83c73cce0d2f89ce707eb2bc1adf2bc8825b8a6115e4\n",
      "[2019-01-25 16:52:16] nonce=19, hash=bde6018ec8657a571ba3869e6ef712e996a2555cee3f9b4b2c773fb7e06c1da5\n",
      "[2019-01-25 16:52:16] nonce=20, hash=509a3deb4a2e11d352416779f861b48ea6bf0d4a4b82a9009010464771c3742f\n",
      "[2019-01-25 16:52:16] nonce=21, hash=4b84f2a527b35c4a40b8b9b20ab37d185d0a4a4144aaf1c7e21f8199eeef8fad\n",
      "[2019-01-25 16:52:16] nonce=22, hash=f84884ccd6c824294d4b1726af561f62030674db6edc8ae6f67ae85001d71092\n",
      "[2019-01-25 16:52:16] nonce=23, hash=de7e5621f6a3e5e03a0bf62480edb0eaff82a38cf3973684932cc20a4f2b6abe\n",
      "[2019-01-25 16:52:16] nonce=24, hash=b1a9128c3c30db4ba94c52fcf7e7b0eff8740a0c9df8da2b5e0c0f1d5ff18165\n",
      "[2019-01-25 16:52:16] nonce=25, hash=fb5ac85ed58326a6872cc7f50b55d212ad910c7c9a30fa6eeb43ddfffb2ed050\n",
      "[2019-01-25 16:52:16] nonce=26, hash=19ceeb70d8f4dcab21da021aa6aa1d58033cd5ef7185431f85d76207194e8fe6\n",
      "[2019-01-25 16:52:16] nonce=27, hash=604e54e9653eb1ea9f49c38e870d03cb05c3e9d30eca6e7777f995d494372a57\n",
      "[2019-01-25 16:52:16] nonce=28, hash=897f7141879080b8aadc8fe6ff7d4d4e1bc987c722dabe3d604248b26f24e420\n",
      "[2019-01-25 16:52:16] nonce=29, hash=411528fbd321127a0f88684683af4d1e8b0d571f5f171ce5c379226c56dee12d\n",
      "[2019-01-25 16:52:16] nonce=30, hash=07376edffb6e2d48cb7948586f2f385478ad89a06c17f7235ef15f5890c3bed4\n",
      "[2019-01-25 16:52:16] nonce=31, hash=0262870463cb0bc2f17fbfab8c3e675bc38c4d10bc437afcb013653cb37a57b4\n",
      "[2019-01-25 16:52:16] nonce=32, hash=b3b050adabca74b6a78268263961bd9ef72377dff7a20c52cc49ec714f13a3dc\n",
      "[2019-01-25 16:52:16] nonce=33, hash=ba329150c8262fc9c2bf9221809308c069b706120b8f3b6df59a6b014de74b3d\n",
      "[2019-01-25 16:52:16] nonce=34, hash=0df965230bad778d28970f8c273f3703d1f1aa8a6da65d72f644021141ea05c7\n",
      "[2019-01-25 16:52:16] nonce=35, hash=3dc30884b64a18f7f4982eaf35d32a13a5a999794a3c1c3a5239100ffdc2eaeb\n",
      "[2019-01-25 16:52:16] nonce=36, hash=44e57c66eb092d1799385d87e2b9a1bff547b52385fb50b22742b44cd07b6f5d\n",
      "[2019-01-25 16:52:16] nonce=37, hash=f27f2c35d9454369b2482cc198d28cdfec11a8aa9bb055eeadd08ebd4cd03a0f\n",
      "[2019-01-25 16:52:16] nonce=38, hash=43b67aea082981c867bc2f21d11faa39c502dd08ecb936fa7a9feb46bb7c6be0\n",
      "[2019-01-25 16:52:16] nonce=39, hash=8e1d498b7c7dcb43e3f3232c5ca9ba92536a5ed6e6f97ecfe7528ce62a80c41c\n",
      "[2019-01-25 16:52:16] nonce=40, hash=d008c9752d7ca149c5d304d01d1627a76f2ea98c0a369ab08ba220970c5391a9\n",
      "[2019-01-25 16:52:16] nonce=41, hash=763a6163444e64b06986faf7cbae3dacebe03c0654421bcfe2b796cbd6a0c118\n",
      "[2019-01-25 16:52:16] nonce=42, hash=4a2ed01d9d0b969d1a878db4cccfaf955d18bd88ff677b2c3da49ac16f04ee01\n",
      "[2019-01-25 16:52:16] nonce=43, hash=482405ccabd5e35267197a9f68af1fcc6a8701735f74c3851c3e91f039dcecf2\n",
      "[2019-01-25 16:52:16] nonce=44, hash=267a513cca8a25e45065dbce1c54bb0c4717b7995d96b386278210c05b7df19f\n",
      "[2019-01-25 16:52:16] nonce=45, hash=cf4c6b547a5b9e5344dfd4747aa10f73658c6e65579034187705d2aabb2698d2\n",
      "[2019-01-25 16:52:16] nonce=46, hash=503a56edb1e74b3b37b8a04e3e19980cca24746b1ea6b179a815b1bc6f32a7a5\n",
      "[2019-01-25 16:52:16] nonce=47, hash=55c79d90e61946b5420d5c891f6f9fa684fe20afc3e7f628643ad8ab54f0783b\n",
      "[2019-01-25 16:52:16] nonce=48, hash=1a68495cb72c714f231c760efb6ac3a97c5acef8487f5c8e2e3315568e82be69\n",
      "[2019-01-25 16:52:16] nonce=49, hash=6fdd9e5a9eed6cda75f3170d47c9acde2cdeecbfbe7be4b36b86a8dc101fe8de\n",
      "[2019-01-25 16:52:16] nonce=50, hash=191bdaf8b51093d3b199743ccf6bd03a2f5267297c28fd32b5e41b877fb3786c\n",
      "[2019-01-25 16:52:16] nonce=51, hash=eac3ce586407d7aa94cee93b31f92c6175a0b242f22aa14232d4f7ed049e2abd\n",
      "[2019-01-25 16:52:16] nonce=52, hash=6a9a3799f2b7e280637480c5fb74f43a99d5922c651cf7916155b684e4a9cb14\n",
      "[2019-01-25 16:52:16] nonce=53, hash=e284734192be475d4895b6099e9b8a7682b88744947ae1bff0f28c30269c341f\n",
      "[2019-01-25 16:52:16] nonce=54, hash=c6eec19b755eb144274e463771a2d4cc1c00884ef5bd07abd411cea7dcfd5864\n",
      "[2019-01-25 16:52:16] nonce=55, hash=41b3cc1317f73d0ef4e99404f23a3644fdb1ab45d45e6916ceeca7ec85af116d\n",
      "[2019-01-25 16:52:16] nonce=56, hash=ae37d247ea6b6d845d4bf1c492a1f1a089e72fbe84e05e2b48d0580743a63d91\n",
      "[2019-01-25 16:52:16] nonce=57, hash=7a7e8e195a2059a398cac0fdd7cf0be95dc7a32c76050a57f789f028dfa0bf88\n",
      "[2019-01-25 16:52:16] nonce=58, hash=f94febd55428fd070104c1e6e224c3ed764df209be4519b0a2dda6ab2d3bde0d\n",
      "[2019-01-25 16:52:16] nonce=59, hash=5510aa310cd5218596d15f119e7f726ab566dbc3fef1faea9975e2c927042637\n",
      "[2019-01-25 16:52:16] nonce=60, hash=b54434c2d8b82f90186d0b78830bd99f5d3653b14dd11b595c65856a68c82dfe\n",
      "[2019-01-25 16:52:16] nonce=61, hash=f18976172472bbdf2930dfa5242b0b3b7e54f7c7a6c37d79efb3298279a1ca24\n",
      "[2019-01-25 16:52:16] nonce=62, hash=6c76b19e7df630cc04dcbd7f63bb9b7ce4f641cc176fdcfdfb022d5ab2750ac7\n",
      "[2019-01-25 16:52:16] nonce=63, hash=450db7d1d4f5ca2c3a5f6fadeeccfdf825f8584e9fb552cedcaf0b5193034b80\n",
      "[2019-01-25 16:52:16] nonce=64, hash=0a60873291a030e99543f4a7e142ff5c6d09a1f969a0da90ed6e924c914534cf\n",
      "[2019-01-25 16:52:16] nonce=65, hash=d8f050df1f9e9ccb3745cdeaf6acba4fed7a09859a53b4d25c5f731ba9a3d069\n",
      "[2019-01-25 16:52:16] nonce=66, hash=c7c06aa6214510b1d9afe2c1206da0c49d10058c96e1e8952c6ff8915bf89547\n",
      "[2019-01-25 16:52:16] nonce=67, hash=01f5d886624beda1f44c7822f50c8276e27974b581a585f06f66bb3ee949c706\n",
      "[2019-01-25 16:52:16] nonce=68, hash=72e8405cc1b4f04bfc98ec00f43b5129eb7c29e9d43d46f87c8fb55623d85b2c\n",
      "[2019-01-25 16:52:16] nonce=69, hash=77489742db48fdd326a5fe6de4e5cc5a510f7f3396c3ae4c4d75849e4aa2d8ed\n",
      "[2019-01-25 16:52:16] nonce=70, hash=598c9054c8739f37850a4fe3feccf3f7c0cca6bac51354c112ae68ddebebbea9\n",
      "[2019-01-25 16:52:16] nonce=71, hash=766fe5004b94ebeb075138526bcbf44e5b096fa8e2ee95bbf5cc67ed061ca0a3\n",
      "[2019-01-25 16:52:16] nonce=72, hash=a083b216a07552c853f0cec74cb7c2c0f4098c950935d7c85bb77729058a8b17\n",
      "[2019-01-25 16:52:16] nonce=73, hash=f4c99503abebb23084059f08c235c12ade9c51223587ee2ea3e9258244442bc9\n",
      "[2019-01-25 16:52:16] nonce=74, hash=5eb36d0304fdf0c1b545c11c1b3b89ec93664e9c0fc939e49dab7500e4d9954a\n",
      "[2019-01-25 16:52:16] nonce=75, hash=c748e76befbbc6c1727b975331497252418efaffb833497463283b1dd97d66b4\n",
      "[2019-01-25 16:52:16] nonce=76, hash=24efe40861851b1bec3bb7066f39f45d382344a8af6867730667d6272e3bced7\n",
      "[2019-01-25 16:52:16] nonce=77, hash=4408d6bc92bf9e96b1fcd0c78e5d0cfbeba2ec90cc88c2556bb1e9e230eef3cf\n",
      "[2019-01-25 16:52:16] nonce=78, hash=0c8ada25c3b9f4de68b918eef72900f2e3a933cd45ef324a88d3ebe8608e08ab\n",
      "[2019-01-25 16:52:16] nonce=79, hash=028428ec6fdc629d5e5738250544b6db5966f23b031916dbbed3642b2b31963b\n",
      "[2019-01-25 16:52:16] nonce=80, hash=9d8b4f7ea2b3bb6a32f9814378ff3393bf3ca61c90eb00f65b7399b074e8763a\n",
      "[2019-01-25 16:52:16] nonce=81, hash=41cb3d61535e4662a415680ebdd88faf2c7f8fc67ed4b1c8c23d6e2d95332d69\n",
      "[2019-01-25 16:52:16] nonce=82, hash=f68f0e2f2286e6270b40b73920c2cace5688a63aeb6d4913abd405a98c1e07ee\n",
      "[2019-01-25 16:52:16] nonce=83, hash=64e9275e0720dd050417380ca594b9472f4ce9265ab2040c6c521ae25937d18a\n",
      "[2019-01-25 16:52:16] nonce=84, hash=dced8b0c3536b8805e3d8f2fa61424a2e1b320c914073b51be984a4b1ff3b073\n",
      "[2019-01-25 16:52:16] nonce=85, hash=69acdb14a1b443ebf87f1ff605f42ad105be6ce30b8f444c4241c6d7745a3109\n",
      "[2019-01-25 16:52:16] nonce=86, hash=bcbbee2f2105d625d81f4095fc1c81de0a6e8625365b2ba728a4e3876640367e\n",
      "[2019-01-25 16:52:16] nonce=87, hash=c4de3cc0d0cdd9200107a40b92124f4fa0817a5c115770e04a0bb65d0614c23d\n",
      "[2019-01-25 16:52:16] nonce=88, hash=fc2de7f0e5e0429ac741b7060bc05c7a88ebec6e9c0ad5971e8c7b86172624f9\n",
      "[2019-01-25 16:52:16] nonce=89, hash=2358cf7b7b99a0ec87be22be1075c1888b5ff7493a126e0fab7c20d135d6343e\n",
      "[2019-01-25 16:52:16] nonce=90, hash=ea5f8204eb3dcf4e28a2ba27c762956612c1b132656b155df552e1d932a5524d\n",
      "[2019-01-25 16:52:16] nonce=91, hash=62aba6a25a18ddaac3d085ea8c798a8bba45cd0da912bd3db5abc30fe9120e91\n",
      "[2019-01-25 16:52:16] nonce=92, hash=222a1e264707f3e1aa47f5693cfca2a33dbb48a3b99be8c05dda5383b9897577\n",
      "[2019-01-25 16:52:16] nonce=93, hash=d73eacffb0711edccc5381b292d1cc46b9e27b381dde042be7b5ba2c344334c4\n",
      "[2019-01-25 16:52:16] nonce=94, hash=170bd37b6d6f80df3af36228af743146ce53d6fe21468226783843bc638d94da\n",
      "[2019-01-25 16:52:16] nonce=95, hash=26b081d2c73d4c19702c125838b0aab05fff52406ea36c6a86e441ccdd3898cb\n",
      "[2019-01-25 16:52:16] nonce=96, hash=225cc228b66b3ef5ea5845db5c03172751641e3f026f55b621227586d44b0678\n",
      "[2019-01-25 16:52:16] nonce=97, hash=41e3fdf59d71a1ac87ac6b9f574d722ae47b34ec39b7eeb431175566d4111261\n",
      "[2019-01-25 16:52:16] nonce=98, hash=182ee79d7d19dff461b0d5e1856102058a508e113ac85cf76e85b3199dcbbfe7\n",
      "[2019-01-25 16:52:16] nonce=99, hash=a77e7b38ffb86530e9c0a8d6e839cb1edee8f910aa51bc63306c78ddb220cfee\n",
      "[2019-01-25 16:52:16] nonce=100, hash=c63a8c92014c2503a42d2006ce1ca0d6af7e57b6556ab7bb3fd2aa28e358e107\n",
      "[2019-01-25 16:52:16] nonce=101, hash=4c852b6c411c0a72e6d95edcdc6bf538317770b2de8c76f0b542c70ec8ff2809\n",
      "[2019-01-25 16:52:16] nonce=102, hash=c220492d6f2c743c210d39303a1a06fc34b5d5e57d54fd773c837f3c4b32854f\n",
      "[2019-01-25 16:52:16] nonce=103, hash=264053af111a9df481cfab8679e39915485081d694d94c2d27f1a17f8b6281cb\n",
      "[2019-01-25 16:52:16] nonce=104, hash=911c4da2aeb50d617985555dd577de86769af5de4e6493c716aef1368b453798\n",
      "[2019-01-25 16:52:16] nonce=105, hash=23ef96a8a6f87a97be464ea6b3142d01f302ba54311b53c3b453d6c2b17feeee\n",
      "[2019-01-25 16:52:16] nonce=106, hash=cb13dafc791bd442e444d406963f225cdd4c97f88cbbdc89285ac30b1214ed81\n",
      "[2019-01-25 16:52:16] nonce=107, hash=33dd8c6fd5005b1311de8f391232a5cc6b3f37a215f517d5150a6e90d7d3a3cc\n",
      "[2019-01-25 16:52:16] nonce=108, hash=40c916c59777181b3528f6064274f2ed8c63da88090d471f430994c9fc04f9e9\n",
      "[2019-01-25 16:52:16] nonce=109, hash=59dcc481b04a9400d0063182636407acb1c94f8e7b294293ba9bb6462c14159a\n",
      "[2019-01-25 16:52:16] nonce=110, hash=682c8f6528c6f8c2b0f57344ffa2b049f82c28fffff77d419d0de918b0a941f6\n",
      "[2019-01-25 16:52:16] nonce=111, hash=3946ba79afeb9c992d5b3405bbcfaca3f1629e4ed6e4bcc1e22ef6347f95c513\n",
      "[2019-01-25 16:52:16] nonce=112, hash=3c99cd405ce54241e1039bf21043eebcf25428c4acda37a3811f841aab39df98\n",
      "[2019-01-25 16:52:16] nonce=113, hash=e9d3ecd80355c4994a38b174484f908769f9b1a09834ccdeed8f18b708ca1971\n",
      "[2019-01-25 16:52:16] nonce=114, hash=47a7331111f48aa4f66d3e4082838828aec91c194d717f9d46fae580fea73d21\n",
      "[2019-01-25 16:52:16] nonce=115, hash=a2ab03a67f5038178db1567db3b6385d096a2c5d4e78d47bd2941f577aeb0d45\n",
      "[2019-01-25 16:52:16] nonce=116, hash=061064bafb3e031612f74fb653a3ae21eb51433b36bacaa80ebbaa43f9ac0592\n",
      "[2019-01-25 16:52:16] nonce=117, hash=cf95e7dd345329d8193bb4bf2e6bb3007ca6f3c6748b377a140e939cdbc3a5b8\n",
      "[2019-01-25 16:52:16] nonce=118, hash=25708745ee63a1d788b800a04cdf387f714d6859748cb4aa2eaae6b1c8848639\n",
      "[2019-01-25 16:52:16] nonce=119, hash=8970be57108f7874018b15f85b689698fd7d262ba06d0797882eeee2ec4fa807\n",
      "[2019-01-25 16:52:16] nonce=120, hash=3691bc6142f8c4aad027fc0a06eeebd6bbdeac3c3fbdb22bba3fa161b5e3e85a\n",
      "[2019-01-25 16:52:16] nonce=121, hash=065c667821bd614dbff8efb46b994a9140b0335b6c6adfa84829146a03b7794c\n",
      "[2019-01-25 16:52:16] nonce=122, hash=85b60a8d49eb527377b69c3c6164163930c9585a6c6a41cfa84051c5fcb0b658\n",
      "[2019-01-25 16:52:16] nonce=123, hash=9b6e78ff86b24b385eca173104dbef183c14f048e4ca2888306e0d8599124302\n",
      "[2019-01-25 16:52:16] nonce=124, hash=67c4bb5f840fafc95229bef37672ef0a6e130935d29f73298c1481ee8a200e80\n",
      "[2019-01-25 16:52:16] nonce=125, hash=0b26c517b0956794af515f1fa79953c19c50fb94db10a80ea091d1ca92bf091a\n",
      "[2019-01-25 16:52:16] nonce=126, hash=1080a445c470b5967c447f22d7bc53f6971cfde00c215dd03b2e9eb82b21b88d\n",
      "[2019-01-25 16:52:16] nonce=127, hash=996f6da8bf3b00f9f85a7ffbc8d23a1767afa4ddcbe91c4c690f799c506800cd\n",
      "[2019-01-25 16:52:16] nonce=128, hash=5a4a0fd4d1ef37012244ea8a793aaec35fc82a8ad25b11e6c7869c97f2426435\n",
      "[2019-01-25 16:52:16] nonce=129, hash=73f5221241d5d5fe9ac2157f3993a5eaef134a505e33e979893462fcf6bcf233\n",
      "[2019-01-25 16:52:16] nonce=130, hash=92455741ee1bef0deb3d69cf607e63fd5ca2bb1ba495dba49cd52652ae4ab705\n",
      "[2019-01-25 16:52:16] nonce=131, hash=eecfea59f0e772157b1075a8ae7faafecfec21a52cc84119281f90d7cb23880a\n",
      "[2019-01-25 16:52:16] nonce=132, hash=9e02ce7d12318bbe60c2fe7b092e10bd3f759cda53236df6ecade7284d011781\n",
      "[2019-01-25 16:52:16] nonce=133, hash=dc196a4cb07a2af283ee18db1c2e5c289d56bd3f95e01fcff01593c4e05d1983\n",
      "[2019-01-25 16:52:16] nonce=134, hash=1bf5dd39238df69771edd8ebe813c8919c4ca5ba04377d0af6cb0255821c02a1\n",
      "[2019-01-25 16:52:16] nonce=135, hash=8d3b93852941250960a9627a8b79c8ed4b42ffe508fcbe078f0341f18d3b8e16\n",
      "[2019-01-25 16:52:16] nonce=136, hash=96c3a6f67db2951dd44fd241303155fb1d635b872f0e948d19e5b91dd98e9641\n",
      "[2019-01-25 16:52:16] nonce=137, hash=632860f6188c76d9b312ace627186b9f941c3bee4a3213ca1aa1a23d5cfcf652\n",
      "[2019-01-25 16:52:16] nonce=138, hash=fddd41eb642722537c00ae595643aa0499ae4b8b4f90f71e4bf6a2190dd541da\n",
      "[2019-01-25 16:52:16] nonce=139, hash=04a9d21cd3358c9f76f991021f49b279077ac2554284deb4f8189dd14c76c5f2\n",
      "[2019-01-25 16:52:16] nonce=140, hash=cdd45eefee456508c5a93e4073376737c648e529fd5aa5063867b333a3ce18fa\n",
      "[2019-01-25 16:52:16] nonce=141, hash=a5723782cd452c27c8e71a18e023ed62f8ebba270453d0498af8a79c1f076a75\n",
      "[2019-01-25 16:52:16] nonce=142, hash=1b39eb2a97b3ed705815d08c9b32194e162dacf124855ae9449524a93caca285\n",
      "[2019-01-25 16:52:16] nonce=143, hash=07dcfcf37be9153f3918398bf183789db0278edcee855a991a2636fa5fbd22a3\n",
      "[2019-01-25 16:52:16] nonce=144, hash=e75936f6713b2efb346b4f1857a9ad9ef5f5c977630249b1616dfe710898a2d8\n",
      "[2019-01-25 16:52:16] nonce=145, hash=d461c4b331a03853afd643792989e8ccbaaace2269477b310f072841e1bc6c04\n",
      "[2019-01-25 16:52:16] nonce=146, hash=6be7a07343ae197a5231d5cb0dfebfb2e2a0a5b0bb8863c298b571b6676ac238\n",
      "[2019-01-25 16:52:16] nonce=147, hash=73adbbdacf6ce2c84b8c102594c7a8569104e3580bef7ab9411af2d3faf0a394\n",
      "[2019-01-25 16:52:16] nonce=148, hash=6f77a4cc9d1d5b69f849989d3a3b53fecf0874d68e82a8768ba41db93d45ce45\n",
      "[2019-01-25 16:52:16] nonce=149, hash=8702d3de879eccde967279aafa5e996d5a9b70a0256a152c68051f0a127bb0aa\n",
      "[2019-01-25 16:52:16] nonce=150, hash=a506192f95a7117fe1b9178548a61f2f6869bdc55517fb4f3b068d6bd5e4f208\n",
      "[2019-01-25 16:52:16] nonce=151, hash=cc18be22b5ff77930dffd0fa6e3b71bb2a9d9ed73d578eabd22185808fd72840\n",
      "[2019-01-25 16:52:16] nonce=152, hash=a50b77bf4d1128f1646096de423a30dcc0ef7b26d8bc69d8f075908394662713\n",
      "[2019-01-25 16:52:16] nonce=153, hash=90f0c262c1761fa87d11ce4a504751d9d8ef37cc0a5f346b77aaf06c5cd8f8c4\n",
      "[2019-01-25 16:52:16] nonce=154, hash=63fcac2994f7b0c45b2d0936fa9ca81816f97f8b423e77ba3b224b0d683f9d1a\n",
      "[2019-01-25 16:52:16] nonce=155, hash=e97368f5e444d996128fc47c1072f87f8415b034e7bd5e2594f3a81ea469e164\n",
      "[2019-01-25 16:52:16] nonce=156, hash=6bca8f24ac9ea424079c07c375a17b4a1b1d890fe4d8b50a54b8924ef096f38a\n",
      "[2019-01-25 16:52:16] nonce=157, hash=c74758954af3d10828716d03d7d5718631760c59436b7dd1fe6b545ebd7c7da7\n",
      "[2019-01-25 16:52:16] nonce=158, hash=4e4ae52acfba5a5d852793323f43477f74d5a904bba8c70313f8eb4d611d5c89\n",
      "[2019-01-25 16:52:16] nonce=159, hash=46732d5abe707af475f7d6209834329758bfbc3308238beed2564c5997d8db2d\n",
      "[2019-01-25 16:52:16] nonce=160, hash=ef8cc1c41701a46d1ae7fe08b18fa66518df09d5ddd1da2a492ef5d7225ad8de\n",
      "[2019-01-25 16:52:16] nonce=161, hash=ab9b9a1afafbacd80461f033082cbd2670f648306c22d28bb1ae265b68c9fcef\n",
      "[2019-01-25 16:52:16] nonce=162, hash=b600c02726b1c82be31c83db1a282c42ed6b348b8c6db225b7d5bbd29d691fb1\n",
      "[2019-01-25 16:52:16] nonce=163, hash=095f529677539c06b36ead5490c6504eb17b89ce57dd9585521635bcd9111866\n",
      "[2019-01-25 16:52:16] nonce=164, hash=800edcc824f932f5791ad42bf7404e245691596b6ea9531534b70d8d6709f99f\n",
      "[2019-01-25 16:52:16] nonce=165, hash=79f03947af44691e796c0bb26b807bde3d10c0dc4907012e52e83ca551d1d1dc\n",
      "[2019-01-25 16:52:16] nonce=166, hash=9a98eb915044cf5bc07aa3055136086f946589c845502f1e0c61dcc87c9ac0c9\n",
      "[2019-01-25 16:52:16] nonce=167, hash=f4ca5059f24508868c1bd6492266d97c7f6acf4ada77a3c53cfb5e063d42b663\n",
      "[2019-01-25 16:52:16] nonce=168, hash=168595deaa84659b03ecb23cb568977e7c8386967fb02f1fe4f662efb3e207a8\n",
      "[2019-01-25 16:52:16] nonce=169, hash=0faca3e5f14e0b935d35a09564ac7ef2127c7142a7a385a9478b201fce13c5bd\n",
      "[2019-01-25 16:52:16] nonce=170, hash=ad813744f3d332a2d47cb4464d64370045278a33a9ebf73ecf20657d8620bcf0\n",
      "[2019-01-25 16:52:16] nonce=171, hash=439bf058feb9726b7be6f7d95ed5d012b350110ad0eba9f393084ffa4a93d4ba\n",
      "[2019-01-25 16:52:16] nonce=172, hash=ad0122b10ffb58aa98939a43f6d413673faaa7c66cf9bababc8e47072a5f6af5\n",
      "[2019-01-25 16:52:16] nonce=173, hash=1ee426f5ffff30689b7a97d940e3a5f2cb29bc1d00d0cc87be8944620b7c242c\n",
      "[2019-01-25 16:52:16] nonce=174, hash=2c0b36180d8281b381e65422077d0a92f7667aeb13932b30f13bee007e6c582e\n",
      "[2019-01-25 16:52:16] nonce=175, hash=bf20ad9894e6b566bd431bc17d87647e8e0091ca3b2a64946d597bb60e8dcb3c\n",
      "[2019-01-25 16:52:16] nonce=176, hash=81736c4bafd0db6f2ea00b0c8317f9647eb210027ddc547ac7c06f9c026abb30\n",
      "[2019-01-25 16:52:16] nonce=177, hash=5ae0026de667134654d54c2e7c8b65f6b0731eccfd76ead7febd54db24ff5105\n",
      "[2019-01-25 16:52:16] nonce=178, hash=9c9f08e0ce137fb552c3b5565991c1a3f9a277fb0c9f58d8debca5c112901ced\n",
      "[2019-01-25 16:52:16] nonce=179, hash=7d9493e5abb8c5f4c7438da3de356d9a6acdb0c6c0215860e204ede450142e98\n",
      "[2019-01-25 16:52:16] nonce=180, hash=b9913009300355d9d07d3d193d63e618365dc83d1dbcee70bee1c2d8c5709a05\n",
      "[2019-01-25 16:52:16] nonce=181, hash=142dccccb1b963664f9177fcc04ab1cf79512b3beb6db4398a657a069ac42fac\n",
      "[2019-01-25 16:52:16] nonce=182, hash=ace8720398e3136cf1a5b673076f92c82a6d898cf04497daa8aa58c99eb55537\n",
      "[2019-01-25 16:52:16] nonce=183, hash=801d95182a7c551b095f06f55c6ec2369886c0a0c1b01ac0d717d2a4655c17cb\n",
      "[2019-01-25 16:52:16] nonce=184, hash=4b8a33a75369005dc357cc3f6f0ffc190819cab1c0696522a9eabbfbd0198043\n",
      "[2019-01-25 16:52:16] nonce=185, hash=334ef6d71ef0aa018318a34f533752da9be61a45cb47391b9276d834bdb5a7c1\n",
      "[2019-01-25 16:52:16] nonce=186, hash=23799ef4db169de7b21ff68af7e5caa3d762fb0e04af2b9082bcfb8ccb77ce92\n",
      "[2019-01-25 16:52:16] nonce=187, hash=3f3090ff2ab7957dc9d0888cf072b59dd87bc5768ffb56f14f6be8d97cc3cd02\n",
      "[2019-01-25 16:52:16] nonce=188, hash=4da022ca072081d2af4d582277932bf74b01300ee3eccb6a4753f42c82a4d2be\n",
      "[2019-01-25 16:52:16] nonce=189, hash=982fc0ca68dc97becc52626fd9ddf787dceaf0fa27f0e9b9fa0c5f01993c70f6\n",
      "[2019-01-25 16:52:16] nonce=190, hash=3e67b0bad8b67cfbfe7325391bb0f5a00c71519c2fa905a378bba19499730099\n",
      "[2019-01-25 16:52:16] nonce=191, hash=af491315f2b9ca6881fdfc3a87dde1126f7b5e0a85ddb272a1c1d12c7b47d82f\n",
      "[2019-01-25 16:52:16] nonce=192, hash=fac28bc4e3fb67f59c6ec691662d7338aee2f901a1cece9f00cf4876011e2ff5\n",
      "[2019-01-25 16:52:16] nonce=193, hash=59b3551458edb6fad62673be6e91ad5ac82eb1e79dd8700f080e86c660fa30ab\n",
      "[2019-01-25 16:52:16] nonce=194, hash=6fd24ec5026e8e2fd45d6e7cf5a5a300c39bbc360abe2bf6511912cd8effc218\n",
      "[2019-01-25 16:52:16] nonce=195, hash=a5cc0638e9831406955681a7571f98e74cd1c321b2692b470389c55315ee2fe3\n",
      "[2019-01-25 16:52:16] nonce=196, hash=e8263c971e05fcce4f0147245f8597072dcc2c480597e660353ac85f346b7b6f\n",
      "[2019-01-25 16:52:16] nonce=197, hash=7fd7c920570fd2af65a5ef9c454c56da4354566196bb54db637474881f609d11\n",
      "[2019-01-25 16:52:16] nonce=198, hash=844b56338a593b64b9d334eba5ebad5f29137fe86f0c34c3ae13afd042be2a1d\n",
      "[2019-01-25 16:52:16] nonce=199, hash=dc8afd1458880416108db59920942da9c461dc9c75482d7bebe9ae9e3935592f\n",
      "[2019-01-25 16:52:16] nonce=200, hash=09edccca96ee7d4b71119126b41724684fa51beb9ffd6d873f27d0e8af5ee571\n",
      "[2019-01-25 16:52:16] nonce=201, hash=e7a1f1d1010385e3af649b661de8c329bc051e6717f22562f0a037d44c647536\n",
      "[2019-01-25 16:52:16] nonce=202, hash=dc02bc9847fe2025be6d990d92832ee1f63a5797b7bf18a78bc8b6e0e7c7fdac\n",
      "[2019-01-25 16:52:16] nonce=203, hash=e77730b063bdad1ce98f35501db9621397e4ba05a9f0cc0348d9fe8d46c4b997\n",
      "[2019-01-25 16:52:16] nonce=204, hash=11e1f683393498f6d03a66172c4a68e499f4ce9ca4af13610be7617fbce37c43\n",
      "[2019-01-25 16:52:16] nonce=205, hash=4264ddac1c1aba4c2aea67e0552e4c2e76537245294f57204b3c3575d8551f61\n",
      "[2019-01-25 16:52:16] nonce=206, hash=056b65e378ee2f07e4f52cc2419c7bfcd1e102bffb529e6ee4618b1b2821f586\n",
      "[2019-01-25 16:52:16] nonce=207, hash=f4585f8155afa43220983df4a1ed29d6c9c5486a23f51e49459159378e853c4e\n",
      "[2019-01-25 16:52:16] nonce=208, hash=85181eb3f58f8f077b53836ce04030e5cab38717717cc29e13350ee5bedfafaa\n",
      "[2019-01-25 16:52:16] nonce=209, hash=7bb03459f5b07184c5af4751e57e05571ff8feb7e88f189f98175597a602a020\n",
      "[2019-01-25 16:52:16] nonce=210, hash=37f56160c53e13677963d0465718fd47c1b5091249cda5da117e5ece3a02f013\n",
      "[2019-01-25 16:52:16] nonce=211, hash=fa711cb4d2890fde7c1d5590b829e5c7909ed49484ff32cddee965b3fe5b75ed\n",
      "[2019-01-25 16:52:16] nonce=212, hash=999f9740b9bfd3196c9924d066bffc1570b9bf9254d3f59f79bec175d01301df\n",
      "[2019-01-25 16:52:16] nonce=213, hash=519f5a3ec82f8a6b25950b83af0d065b588548d2773ee63738a1e89455d6d991\n",
      "[2019-01-25 16:52:16] nonce=214, hash=0fb64e5eeaa0aca24ef878e139c1d4db18ba16f949ec8728b4b00100604d5d4e\n",
      "[2019-01-25 16:52:16] nonce=215, hash=eedc3dc0486fc78897f1425ad314b7646ca27be64cfcbb46b6b6a263be105f52\n",
      "[2019-01-25 16:52:16] nonce=216, hash=ee10addc8ea4b828ded6f22697cf5eb6135c99279fdf2bc0b29b96d7a8008ca3\n",
      "[2019-01-25 16:52:16] nonce=217, hash=4e79d0ecaffcf04e2126d727acbcd06397002e8b0a49c2ce2bfc2f307c6b0eae\n",
      "[2019-01-25 16:52:16] nonce=218, hash=9f18de9b64bb643c22e1ff43a36fb25e3814e9d0f0d0623817028d2bf92ed3b3\n",
      "[2019-01-25 16:52:16] nonce=219, hash=6266a061d0032364c5c1a683332d097275bc987497db0e11defbcb586fb5c33b\n",
      "[2019-01-25 16:52:16] nonce=220, hash=5e8b022474a4eadb66a2a0329653cb3f2d59e173720eb669c69627946348c520\n",
      "[2019-01-25 16:52:16] nonce=221, hash=77e5a264a8146b7f3d6689871ffb05b6ca8cccec3a9dc1f871c689f94076e223\n",
      "[2019-01-25 16:52:16] nonce=222, hash=dedb42fc7926bcc3fbb0076973544c7f1abaac594ca496c2816d2f938b900273\n",
      "[2019-01-25 16:52:16] nonce=223, hash=957afd9d5cd1f612d3472842159f93382ecafcbc53d4fb6cdc095fd3230365d3\n",
      "[2019-01-25 16:52:16] nonce=224, hash=4e69aa7ecb2442cd80ea3dab6a826ea4a9571b748031c05d69d15e83564d88ab\n",
      "[2019-01-25 16:52:16] nonce=225, hash=590662e0ed9fb3c323044b1dc27dd85ee722200903e4f1f70030d2c12597423a\n",
      "[2019-01-25 16:52:16] nonce=226, hash=1870cc18febb6e31a641e5e899f4978686ccf0484da0315c00fa9f6f6374e46f\n",
      "[2019-01-25 16:52:16] nonce=227, hash=aad76f8c6b82c2492ecd6ccd3c0614b11042165a1d86078c07625289ac0aac89\n",
      "[2019-01-25 16:52:16] nonce=228, hash=7abfe174a1da3c3fff720f164873684c8933c4794075b6ff3e8899ec1a8d3933\n",
      "[2019-01-25 16:52:16] nonce=229, hash=28b0101adfdbc1377d974c47b75b6639b3b7c1fa80539f4407e0c9caf2b387ec\n",
      "[2019-01-25 16:52:16] nonce=230, hash=8a3816e3886c70bd792bdba266a81978ceeccd54d22e5be71c4ca949a1ebdfca\n",
      "[2019-01-25 16:52:16] nonce=231, hash=5ff81662fbe58f2d6cd875acd8badd645c2f8d18dc53e3f8c08a986ad7584af7\n",
      "[2019-01-25 16:52:16] nonce=232, hash=91d6680d4f9c4344e0361fdb30323c494e60e2145eaf5f25b7ea506b8984927d\n",
      "[2019-01-25 16:52:16] nonce=233, hash=031760389b57eb9057c0d783c43488b9cb6caa078045285dd51698bdd760a606\n",
      "[2019-01-25 16:52:16] nonce=234, hash=36cb184718812b455fe23fc0c93b2c5497bb0fd64fb5efe72b797ac6d9b38407\n",
      "[2019-01-25 16:52:16] nonce=235, hash=bd52f461410568d43dfd7a878672179b4f5deda692a737bf5e661b533b139e03\n",
      "[2019-01-25 16:52:16] nonce=236, hash=7a109137a4df482e29e0f504351a4c213de5589f8a36347393be59ef271d702a\n",
      "[2019-01-25 16:52:16] nonce=237, hash=af0462ebb4a367518fe7eb19fd700fd9a3665e29b43f296b8c34192250f6c8bf\n",
      "[2019-01-25 16:52:16] nonce=238, hash=52ff09ce137ba32a835daadd8b5a09bfde4f80969bb0755905b6cfb5ce3982cd\n",
      "[2019-01-25 16:52:16] nonce=239, hash=7bec298bbc665dc75cd82d2196aea6def462cb2dcfecf45a030279948d1ef26d\n",
      "[2019-01-25 16:52:16] nonce=240, hash=95457b64ebea7f8fe530c149c452b0b929a705561ee14b1fe17f124f8793f679\n",
      "[2019-01-25 16:52:16] nonce=241, hash=7a1e56012e43dc282c00898a7d5b1d0fa3d858ba58f00b7a2a26d23c39963716\n",
      "[2019-01-25 16:52:16] nonce=242, hash=70c2afa63a95cd3ff09e33e145f3399de33a018626ef592d96dddc1176ace2fa\n",
      "[2019-01-25 16:52:16] nonce=243, hash=258cbea9585d2816203d57e9cbf4da9ebab6f4840a2ad5f41d431f2f617728cf\n",
      "[2019-01-25 16:52:16] nonce=244, hash=3ab775d8914ff18f16308b5b284d7dfa3a37e71a3e979b806ca6fdf929a493a1\n",
      "[2019-01-25 16:52:16] nonce=245, hash=548ec77d6e1386aea7eb071d1bb3de92825a3907c0e2e103c5dae2d9c5b5ebc4\n",
      "[2019-01-25 16:52:16] nonce=246, hash=e57e445f389b5e89deeaf41226bb3c3c94d66316cbd6809e6de90fbc8a2e0521\n",
      "[2019-01-25 16:52:16] nonce=247, hash=c514c71659c4c46c9347833207f781fa2cb2ea00a1e4543ed86b68bb945c33f2\n",
      "[2019-01-25 16:52:16] nonce=248, hash=6339f1bd66b6e95d495ed8464fe93ee70e3a12f58060bb1c3f4a6fe17c9adbcf\n",
      "[2019-01-25 16:52:16] nonce=249, hash=a39cc06380b2a475840f0d2470b1eb8d455cdc9837b52608d286d8029afee51e\n",
      "[2019-01-25 16:52:16] nonce=250, hash=520a158bdbcd4ef2d9d9fe4c722ec20f4d147d790b77e72817b5783327fa9589\n",
      "[2019-01-25 16:52:16] nonce=251, hash=8c97c18137ef7520198361d7898b3d38ca9507beda59bb0e30b2111143c6f65f\n",
      "[2019-01-25 16:52:16] nonce=252, hash=3db63d6d9e5c395fb1f1ee1270c6d4df57489477c9cb962d5974cefd14b60c9f\n",
      "[2019-01-25 16:52:16] nonce=253, hash=35c0a866d9c980aceb4a8a88d6960620f2586d604dd9e2ca3d7720080e5974d3\n",
      "[2019-01-25 16:52:16] nonce=254, hash=18fbd72bd6ee8a0ef5965abbdd17d0bc9a09aa367380ced710593cdf7eacbc5a\n",
      "[2019-01-25 16:52:16] nonce=255, hash=5d72c5c3173ecb521e5170fb27f4329fab60509cf998506c6ff15c58bfe48349\n",
      "[2019-01-25 16:52:16] nonce=256, hash=7eb6b8af5843c75b8ca2fde3d060ac30edf1ac14c79013e5ef8bb27554cdb56b\n",
      "[2019-01-25 16:52:16] nonce=257, hash=36b5d5717de94e57c571787b05049009f947f12ef5d557aa9f2fc0829f3e8931\n",
      "[2019-01-25 16:52:16] nonce=258, hash=6a99a11e8de6c0713e63dba2395f165c98598c66897ecde783f02402a2b28d74\n",
      "[2019-01-25 16:52:16] nonce=259, hash=48dfbb84f1b6347996ca8f139f13bdcb9af46cf728e34992913b72004da5c0ed\n",
      "[2019-01-25 16:52:16] nonce=260, hash=2f89a694a7d927abafedadcbe8d315734d77f20e8ba76f282df7b85cd23cf7f8\n",
      "[2019-01-25 16:52:16] nonce=261, hash=af8a002be37005210c74e2eb21562aa5ac16d4f57bff942aae0745d7a3af05ef\n",
      "[2019-01-25 16:52:16] nonce=262, hash=4050b78ae967681ad55bf88f6f0e41f9f09ab8d6b04bcb0c2f28572c6a675c06\n",
      "[2019-01-25 16:52:16] nonce=263, hash=1a0628ea12061dff80433a7687a057f279982fe992f0291a4d38aa16217ab6b9\n",
      "[2019-01-25 16:52:16] nonce=264, hash=9cf5024cad6483c75c56b5f9aee1330d8390f05a8be45f3190dbfdf9264450a1\n",
      "[2019-01-25 16:52:16] nonce=265, hash=55d3b332f509c8bb7c39d9a43ecbd1af03e00dcfd1c2c744db26cad285b88ef4\n",
      "[2019-01-25 16:52:16] nonce=266, hash=8245da4d1ded54d5cbf0c09aa76bba3f34c1aa1471e7b8846eb2e3746c195b4f\n",
      "[2019-01-25 16:52:16] nonce=267, hash=2087d8ad8717505256531684e79f5e549c611fb09950dac3375be04e6c7086da\n",
      "[2019-01-25 16:52:16] nonce=268, hash=bf89fba854a806b7a3b13231fc9ba6a2f6e4db47d6f560103988c6603ec0da7d\n",
      "[2019-01-25 16:52:16] nonce=269, hash=3926adca301221cc7a7c17554c0f763c0602f182ef5f52e8684b428962cefe25\n",
      "[2019-01-25 16:52:16] nonce=270, hash=ed8a789efd2d8821289b0e351563186d384ca0160859d6e74966b2c88dad4644\n",
      "[2019-01-25 16:52:16] nonce=271, hash=4a1ab0bf085937d6674df5c6c4f814cf9e1205b612bbeb458fcc9eb6bf35eb98\n",
      "[2019-01-25 16:52:16] nonce=272, hash=8f77859bcf4f92ca645befb3229fbbca2205ac6d6ffc3ba822e20b3a3aecfdd3\n",
      "[2019-01-25 16:52:16] nonce=273, hash=90381fe553ee9442b773b91799891fcffbb90e2e10aa5d66323fe37b7a0b03d8\n",
      "[2019-01-25 16:52:16] nonce=274, hash=4a6321cbf13d10427ecd85720585403889f4876df26c7727a11530f623700c2e\n",
      "[2019-01-25 16:52:16] nonce=275, hash=dbeb34b9062ed0e25aabc5d143cfa0f4b18bd479e30d966f32607af93b0eb2b0\n",
      "[2019-01-25 16:52:16] nonce=276, hash=f81296b855bb5d2d8ae36def7659faf6a522908ec727ffea693b7e32e5fff8d9\n",
      "[2019-01-25 16:52:16] nonce=277, hash=0c493851912d9387e6e729c79705dc1cd5ab8212bf769055f894b38868c30c4b\n",
      "[2019-01-25 16:52:16] nonce=278, hash=45b60911ec6d71bc2fb7314862bcf51d3ad13da76350dd7faab51e4c0e97cbe7\n",
      "[2019-01-25 16:52:16] nonce=279, hash=7dd7b3dabd983bd923df5370059466ea2270163df86c6611a162d6d1614f2aa0\n",
      "[2019-01-25 16:52:16] nonce=280, hash=3cda18c173f800773f13ed1ec7b87e35c04f1fe43b06f6f2ba9ee111f0197f99\n",
      "[2019-01-25 16:52:16] nonce=281, hash=2da660d4fe54de58281d923e983aebb48cbabc55f1e7aaa76cee574e2c9effbc\n",
      "[2019-01-25 16:52:16] nonce=282, hash=d2322605803792693b445340daa076eb5c58b9dd6c50d197298c22448852f05c\n",
      "[2019-01-25 16:52:16] nonce=283, hash=80b2944b61dae3c4a3321241b9a326ed0a3bf46781e74435f35c073f6e59385e\n",
      "[2019-01-25 16:52:16] nonce=284, hash=fe24dabcb306d0f72b6b3e96540c159f09882b086af9e1902406611db9f39439\n",
      "[2019-01-25 16:52:16] nonce=285, hash=bb59207fe21f059d823dea634cc4802259ec5aa2ae1ca4135f5caaef1d9501f7\n",
      "[2019-01-25 16:52:16] nonce=286, hash=f6593820b4b8b2be9c25bda864d5db767c70d6905cf358e2cfb5a1f451d9f824\n",
      "[2019-01-25 16:52:16] nonce=287, hash=ee005fc04babd1c070288cdc86c867b99a4dee839e5b824156df433314b7067e\n",
      "[2019-01-25 16:52:16] nonce=288, hash=2f89204dca7db0667311930b360b40b353f483ac0c75cdc64ef0903924f4fcff\n",
      "[2019-01-25 16:52:16] nonce=289, hash=92d118e299a6d18affaccd0c0de6d3c9e8eba86fb29bca6fa95249f74a93abda\n",
      "[2019-01-25 16:52:16] nonce=290, hash=952a0242c7317ace535a09138df43f57856c07ebc249cef9f81705ac01eaaef8\n",
      "[2019-01-25 16:52:16] nonce=291, hash=65ca8ce5c38d74d684594e814e1f8d814b79a9258398918e28704afb0ab93503\n",
      "[2019-01-25 16:52:16] nonce=292, hash=98521fdc7b367a6348a07afa10cbd165aa98acce4ecc3210aa278924c8e4669b\n",
      "[2019-01-25 16:52:16] nonce=293, hash=4c7305990fa3caaa43367c414c8114a7ea4585e9fba9f03a652932d286fa5485\n",
      "[2019-01-25 16:52:16] nonce=294, hash=426601cd23865322250fb05082027472ff4da5ae2bfe106ebe69a0a1ad6ded38\n",
      "[2019-01-25 16:52:16] nonce=295, hash=4454065b9898335a768f793b3e5350d34f78cfeb0e995cca59a9fff0a5bd8040\n",
      "[2019-01-25 16:52:16] nonce=296, hash=6406d51cd1c4ecbb4f500507591be2b925b14d701c4d4513f7ecd7a81b1e0ab0\n",
      "[2019-01-25 16:52:16] nonce=297, hash=65b2781c09793ffae5d68a7f553a5a7ce1b0c8f35fc7f655084728b3b93cf38b\n",
      "[2019-01-25 16:52:16] nonce=298, hash=1ce59d12e9515fdd90881a5081f4d66fdf1fca9f639e6a17c87864c03fa2ae0d\n",
      "[2019-01-25 16:52:16] nonce=299, hash=2319dcfcb5e7fb2f9e20a01fd19786f5919b418a7f2984b700bdb71314858f9d\n",
      "[2019-01-25 16:52:16] nonce=300, hash=5ac914556dc5acda811709e098cee168a6c399e399b9a1bfa44ff1857deb1434\n",
      "[2019-01-25 16:52:16] nonce=301, hash=f2d9264678a65970fdd0f28a226d160aebc9ffc691ca323d7a2ffeb19fe7e6d1\n",
      "[2019-01-25 16:52:16] nonce=302, hash=cc500b14b5ecd2cc2480c073a8e2fc35fc53d27830a1c56c5bb69c7560e49f47\n",
      "[2019-01-25 16:52:16] nonce=303, hash=1659ca78c1fa4bf8c21acfd371abd41638c07095246b73bad4cdc9ac4c4ad43a\n",
      "[2019-01-25 16:52:16] nonce=304, hash=507ab966484638d783c7e609f81dbbd4db54202470ad588883c20a8310f4b0ef\n",
      "[2019-01-25 16:52:16] nonce=305, hash=378bf66c052b2401c49a9404e3aa7b84551d73a1c9cb634efc101e38e56d6bd4\n",
      "[2019-01-25 16:52:16] nonce=306, hash=d246298baf59670c1082176811424a17c6aeee3f3620737222fbf4e5ac247585\n",
      "[2019-01-25 16:52:16] nonce=307, hash=1544bdc0d6174dc1f2c0cfe21edf2cd0b017abdeea91f83f1c695c6bbdd3533d\n",
      "[2019-01-25 16:52:16] nonce=308, hash=005e3e92749f36a51a1ff2aa117a6849f995489a636708f6ff42a5c5befef318\n"
     ]
    }
   ],
   "source": [
    "blockchain.mine(block)"
   ]
  },
  {
   "cell_type": "code",
   "execution_count": 221,
   "metadata": {},
   "outputs": [
    {
     "name": "stdout",
     "output_type": "stream",
     "text": [
      "<__main__.Block object at 0x10dbf9cf8>\n"
     ]
    }
   ],
   "source": [
    "print(blockchain.genesis_block())"
   ]
  },
  {
   "cell_type": "code",
   "execution_count": 224,
   "metadata": {},
   "outputs": [
    {
     "name": "stdout",
     "output_type": "stream",
     "text": [
      "192.168.0.2:5000 added to node pool\n"
     ]
    }
   ],
   "source": [
    "blockchain.add_node(ip)"
   ]
  },
  {
   "cell_type": "code",
   "execution_count": 306,
   "metadata": {},
   "outputs": [],
   "source": [
    "mt = MerkleTools()"
   ]
  },
  {
   "cell_type": "code",
   "execution_count": 307,
   "metadata": {},
   "outputs": [],
   "source": [
    "mt.add_leaf('a', do_hash=True)\n",
    "mt.add_leaf('b', do_hash=True)\n",
    "mt.add_leaf('c', do_hash=True)\n",
    "mt.add_leaf('d', do_hash=True)\n",
    "mt.make_tree()"
   ]
  },
  {
   "cell_type": "code",
   "execution_count": 308,
   "metadata": {},
   "outputs": [
    {
     "data": {
      "text/plain": [
       "'14ede5e8e97ad9372327728f5099b95604a39593cac3bd38a343ad76205213e7'"
      ]
     },
     "execution_count": 308,
     "metadata": {},
     "output_type": "execute_result"
    }
   ],
   "source": [
    "mt.get_merkle_root()"
   ]
  },
  {
   "cell_type": "code",
   "execution_count": null,
   "metadata": {},
   "outputs": [],
   "source": []
  },
  {
   "cell_type": "code",
   "execution_count": null,
   "metadata": {},
   "outputs": [],
   "source": []
  }
 ],
 "metadata": {
  "kernelspec": {
   "display_name": "Python 3",
   "language": "python",
   "name": "python3"
  },
  "language_info": {
   "codemirror_mode": {
    "name": "ipython",
    "version": 3
   },
   "file_extension": ".py",
   "mimetype": "text/x-python",
   "name": "python",
   "nbconvert_exporter": "python",
   "pygments_lexer": "ipython3",
   "version": "3.6.2"
  }
 },
 "nbformat": 4,
 "nbformat_minor": 2
}
