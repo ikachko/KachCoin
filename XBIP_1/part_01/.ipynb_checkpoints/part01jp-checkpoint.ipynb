{
 "cells": [
  {
   "cell_type": "code",
   "execution_count": 203,
   "metadata": {},
   "outputs": [],
   "source": [
    "import secrets\n",
    "import time\n",
    "import random\n",
    "import hashlib\n",
    "import base58\n",
    "\n",
    "\n",
    "import ecdsa\n",
    "import binascii\n",
    "\n",
    "import codecs\n",
    "\n",
    "alphabet = '123456789ABCDEFGHJKLMNPQRSTUVWXYZabcdefghijkmnopqrstuvwxyz'"
   ]
  },
  {
   "cell_type": "code",
   "execution_count": 178,
   "metadata": {},
   "outputs": [],
   "source": [
    "# wallet_cli.py\n",
    "def new():\n",
    "    bits = secrets.randbits(256)\n",
    "    bits_hex = hex(bits)\n",
    "    private_key = bits_hex[2:]"
   ]
  },
  {
   "cell_type": "code",
   "execution_count": null,
   "metadata": {},
   "outputs": [],
   "source": [
    "# wallet.py\n"
   ]
  },
  {
   "cell_type": "code",
   "execution_count": 34,
   "metadata": {},
   "outputs": [],
   "source": [
    "class KeyGenerator():\n",
    "    def __init__(self):\n",
    "        self.CURVE_ORDER = int('FFFFFFFFFFFFFFFFFFFFFFFFFFFFFFFEBAAEDCE6AF48A03BBFD25E8CD0364141', 16)\n",
    "        self.POOL_SIZE = 256\n",
    "        self.KEY_BYTES = 32\n",
    "        self.pool = [0] * self.POOL_SIZE\n",
    "        self.pool_pointer = 0\n",
    "        self.prng_state = None\n",
    "        self.__init_pool()\n",
    "        \n",
    "    def __init_pool(self):\n",
    "        for i in range(self.POOL_SIZE):\n",
    "            random_byte = secrets.randbits(8)\n",
    "            self.__seed_byte(random_byte)\n",
    "        time_int = int(time.time())\n",
    "        self.__seed_int(time_int)\n",
    "    \n",
    "    def __seed_int(self, n):\n",
    "        self.__seed_byte(n)\n",
    "        self.__seed_byte(n >> 8)\n",
    "        self.__seed_byte(n >> 16)\n",
    "        self.__seed_byte(n >> 24)\n",
    "    \n",
    "    def __seed_byte(self, n):\n",
    "        self.pool[self.pool_pointer] ^= n & 255\n",
    "        self.pool_pointer += 1\n",
    "        if self.pool_pointer >= self.POOL_SIZE:\n",
    "            self.pool_pointer = 0\n",
    "    \n",
    "    def seed_input(self, str_input):\n",
    "        time_int = int(time.time())\n",
    "        self.__seed_int(time_int)\n",
    "        for char in str_input:\n",
    "            char_code = ord(char)\n",
    "            self.__seed_byte(char_code)\n",
    "\n",
    "    def generate_key(self):\n",
    "        big_int = self.__generate_big_int()\n",
    "        big_int %= (self.CURVE_ORDER - 1)\n",
    "        big_int += 1\n",
    "        key = hex(big_int)[2:]\n",
    "        return key\n",
    "    \n",
    "    def __generate_big_int(self):\n",
    "        if self.prng_state is None:\n",
    "            seed = int.from_bytes(self.pool, byteorder='big', signed=False)\n",
    "            random.seed(seed)\n",
    "            self.prng_state = random.getstate()\n",
    "            random.setstate(self.prng_state)\n",
    "            big_int = random.getrandbits(self.KEY_BYTES * 8)\n",
    "            self.prng_state = random.getstate()\n",
    "            return big_int"
   ]
  },
  {
   "cell_type": "code",
   "execution_count": 189,
   "metadata": {},
   "outputs": [],
   "source": [
    "key_gen = KeyGenerator()\n",
    "key_gen.seed_input(\"IlyaKachko\")\n",
    "privkey = key_gen.generate_key()"
   ]
  },
  {
   "cell_type": "code",
   "execution_count": 186,
   "metadata": {},
   "outputs": [],
   "source": [
    "def sha256(arg):\n",
    "#     print(len(arg))\n",
    "#     print(arg[65])\n",
    "    byte_array = bytearray.fromhex(arg)\n",
    "    m = hashlib.sha256()\n",
    "    m.update(byte_array)\n",
    "    return m.hexdigest()\n",
    "\n",
    "def b58encode(hex_str):\n",
    "    num = int(hex_str, 16)\n",
    "    encode = \"\"\n",
    "    base_count = len(alphabet)\n",
    "    while (num > 0):\n",
    "        num, res = divmod(num, base_count)\n",
    "        encode = alphabet[res] + encode\n",
    "    return encode\n",
    "\n",
    "def b58decode(v):\n",
    "\t''' Decode a Base58 encoded string as an integer and return a hex string '''\n",
    "\tif not isinstance(v, str):\n",
    "\t\tv = v.decode('ascii')\n",
    "\tdecimal = 0\n",
    "\tfor char in v:\n",
    "\t\tdecimal = decimal * 58 + alphabet.index(char)\n",
    "\treturn hex(decimal)[2:] # (remove \"0x\" prefix)\n",
    "\n",
    "def base58(address_hex):\n",
    "    alphabet = '123456789ABCDEFGHJKLMNPQRSTUVWXYZabcdefghijkmnopqrstuvwxyz'\n",
    "    b58_string = ''\n",
    "    leading_zeros = len(address_hex) - len(address_hex.lstrip('0'))\n",
    "    address_int = int(address_hex, 16)\n",
    "    while address_int > 0:\n",
    "        digit = address_int % 58\n",
    "        digit_char = alphabet[digit]\n",
    "        b58_string = digit_char + b58_string\n",
    "        address_int //= 58\n",
    "    ones = leading_zeros // 2\n",
    "    for one in range(ones):\n",
    "        b58_string = '1' + b58_string\n",
    "    return b58_string\n"
   ]
  },
  {
   "cell_type": "code",
   "execution_count": 365,
   "metadata": {},
   "outputs": [],
   "source": [
    "def priv_to_WIF(key):\n",
    "    _priv = key.upper()\n",
    "    priv_add_x80 = \"80\" + _priv\n",
    "    sh = sha256(sha256(priv_add_x80))\n",
    "    first_4_bytes = sh[0:8]\n",
    "    resulting_hex = priv_add_x80 + first_4_bytes\n",
    "    result_wif = base58(resulting_hex)\n",
    "    return result_wif"
   ]
  },
  {
   "cell_type": "code",
   "execution_count": 335,
   "metadata": {},
   "outputs": [
    {
     "name": "stdout",
     "output_type": "stream",
     "text": [
      "18CJdksq7eVGnENaackZDpMb4rgbc9YR7y\n"
     ]
    }
   ],
   "source": [
    "private_key = '0a56184c7a383d8bcce0c78e6e7a4b4b161b2f80a126caa48bde823a4625521f'\n",
    "\n",
    "def countLeadingZeroes(s):\n",
    "    count = 0\n",
    "    for c in s:\n",
    "        if c == '\\0':\n",
    "            count += 1\n",
    "        else:\n",
    "            break\n",
    "    return count\n",
    "\n",
    "def base58CheckEncode(prefix, payload):\n",
    "    s = chr(prefix) + payload\n",
    "    checksum = hashlib.sha256(hashlib.sha256(s).digest()).digest()[0:4]\n",
    "    result = s + checksum\n",
    "    return '1' * countLeadingZeroes(result) + base58encode(base256decode(result))\n",
    "\n",
    "def private_to_public(private_key):\n",
    "    pk_bytes = codecs.decode(private_key, 'hex')\n",
    "    key = ecdsa.SigningKey.from_string(private_key_bytes, curve=ecdsa.SECP256k1).verifying_key\n",
    "    key_bytes = key.to_string()\n",
    "    key_hex = codecs.encode(key_bytes, 'hex')\n",
    "\n",
    "    btc_byte = b'04'\n",
    "    public_key = btc_byte + key_hex\n",
    "    return public_key.decode('utf-8')\n",
    "\n",
    "\n",
    "def public_key_to_addr(key):\n",
    "    public_key_bytes = codecs.decode(key, 'hex')\n",
    "    \n",
    "    # Run SHA256 for the public key\n",
    "    sha256_bpk = hashlib.sha256(public_key_bytes)\n",
    "    sha256_bpk_digest = sha256_bpk.digest()\n",
    "    \n",
    "    # Run ripemd160 for the SHA256\n",
    "    ripemd160_bpk = hashlib.new('ripemd160')\n",
    "    ripemd160_bpk.update(sha256_bpk_digest)\n",
    "    ripemd160_bpk_digest = ripemd160_bpk.digest()\n",
    "    ripemd160_bpk_hex = codecs.encode(ripemd160_bpk_digest, 'hex')\n",
    "    \n",
    "    # Add network byte\n",
    "    network_byte = b'00'\n",
    "    network_bitcoin_public_key = network_byte + ripemd160_bpk_hex\n",
    "    network_bitcoin_public_key_bytes = codecs.decode(network_bitcoin_public_key, 'hex')\n",
    "    \n",
    "    # Double SHA256 to get checksum\n",
    "    sha256_2_nbpk_digest = hashlib.sha256(hashlib.sha256(network_bitcoin_public_key_bytes).digest()).digest()\n",
    "    sha256_2_hex = codecs.encode(sha256_2_nbpk_digest, 'hex')\n",
    "    checksum = sha256_2_hex[:8]\n",
    "    \n",
    "    # Concatenate public key and checksum to get the address\n",
    "    address_hex = (network_bitcoin_public_key + checksum).decode('utf-8')\n",
    "    wallet = base58(address_hex)\n",
    "    return wallet\n",
    "    \n",
    "\n",
    "def private_key_to_addr(key):\n",
    "    return public_key_to_addr(private_to_public(key))\n",
    "\n",
    "public_key = private_to_public(private_key)\n",
    "private_key_to_addr(\"45b0c38fa54766354cf3409d38b873255dfa9ed3407a542ba48eb9cab9dfca67\")\n",
    "address = public_key_to_addr(public_key)\n",
    "print(address)"
   ]
  },
  {
   "cell_type": "code",
   "execution_count": 412,
   "metadata": {},
   "outputs": [
    {
     "ename": "ImportError",
     "evalue": "cannot import name 'tostr'",
     "output_type": "error",
     "traceback": [
      "\u001b[0;31m-----------------------------------------------\u001b[0m",
      "\u001b[0;31mImportError\u001b[0m   Traceback (most recent call last)",
      "\u001b[0;32m<ipython-input-412-835e6e0eba1a>\u001b[0m in \u001b[0;36m<module>\u001b[0;34m\u001b[0m\n\u001b[1;32m      2\u001b[0m \u001b[0;32mfrom\u001b[0m \u001b[0mCrypto\u001b[0m\u001b[0;34m.\u001b[0m\u001b[0mHash\u001b[0m \u001b[0;32mimport\u001b[0m \u001b[0mSHA256\u001b[0m\u001b[0;34m\u001b[0m\u001b[0m\n\u001b[1;32m      3\u001b[0m \u001b[0;32mfrom\u001b[0m \u001b[0mCrypto\u001b[0m\u001b[0;34m.\u001b[0m\u001b[0mSignature\u001b[0m \u001b[0;32mimport\u001b[0m \u001b[0mPKCS1_v1_5\u001b[0m\u001b[0;34m\u001b[0m\u001b[0m\n\u001b[0;32m----> 4\u001b[0;31m \u001b[0;32mfrom\u001b[0m \u001b[0mCrypto\u001b[0m\u001b[0;34m.\u001b[0m\u001b[0mPublicKey\u001b[0m \u001b[0;32mimport\u001b[0m \u001b[0mRSA\u001b[0m\u001b[0;34m,\u001b[0m \u001b[0mECC\u001b[0m\u001b[0;34m\u001b[0m\u001b[0m\n\u001b[0m",
      "\u001b[0;32m~/vcub/lib/python3.6/site-packages/Crypto/PublicKey/ECC.py\u001b[0m in \u001b[0;36m<module>\u001b[0;34m\u001b[0m\n\u001b[1;32m     35\u001b[0m \u001b[0;32mfrom\u001b[0m \u001b[0mcollections\u001b[0m \u001b[0;32mimport\u001b[0m \u001b[0mnamedtuple\u001b[0m\u001b[0;34m\u001b[0m\u001b[0m\n\u001b[1;32m     36\u001b[0m \u001b[0;34m\u001b[0m\u001b[0m\n\u001b[0;32m---> 37\u001b[0;31m \u001b[0;32mfrom\u001b[0m \u001b[0mCrypto\u001b[0m\u001b[0;34m.\u001b[0m\u001b[0mUtil\u001b[0m\u001b[0;34m.\u001b[0m\u001b[0mpy3compat\u001b[0m \u001b[0;32mimport\u001b[0m \u001b[0mbord\u001b[0m\u001b[0;34m,\u001b[0m \u001b[0mtobytes\u001b[0m\u001b[0;34m,\u001b[0m \u001b[0mtostr\u001b[0m\u001b[0;34m,\u001b[0m \u001b[0mbchr\u001b[0m\u001b[0;34m,\u001b[0m \u001b[0mis_string\u001b[0m\u001b[0;34m\u001b[0m\u001b[0m\n\u001b[0m\u001b[1;32m     38\u001b[0m \u001b[0;34m\u001b[0m\u001b[0m\n\u001b[1;32m     39\u001b[0m \u001b[0;32mfrom\u001b[0m \u001b[0mCrypto\u001b[0m\u001b[0;34m.\u001b[0m\u001b[0mMath\u001b[0m\u001b[0;34m.\u001b[0m\u001b[0mNumbers\u001b[0m \u001b[0;32mimport\u001b[0m \u001b[0mInteger\u001b[0m\u001b[0;34m\u001b[0m\u001b[0m\n",
      "\u001b[0;31mImportError\u001b[0m: cannot import name 'tostr'"
     ]
    }
   ],
   "source": [
    "import Crypto\n",
    "from Crypto.Hash import SHA256\n",
    "from Crypto.Signature import PKCS1_v1_5\n",
    "from Crypto.PublicKey import RSA, ECC"
   ]
  },
  {
   "cell_type": "code",
   "execution_count": 384,
   "metadata": {},
   "outputs": [
    {
     "name": "stdout",
     "output_type": "stream",
     "text": [
      "0a56184c7a383d8bcce0c78e6e7a4b4b161b2f80a126caa48bde823a4625521f\n"
     ]
    },
    {
     "ename": "ValueError",
     "evalue": "RSA modulus length must be a multiple of 256 and >= 1024",
     "output_type": "error",
     "traceback": [
      "\u001b[0;31m-----------------------------------------------\u001b[0m",
      "\u001b[0;31mValueError\u001b[0m    Traceback (most recent call last)",
      "\u001b[0;32m<ipython-input-384-e0f77f5df8e8>\u001b[0m in \u001b[0;36m<module>\u001b[0;34m\u001b[0m\n\u001b[1;32m     23\u001b[0m \u001b[0;31m#     return binascii.hexlify(signer.sign(h)).decode('ascii')\u001b[0m\u001b[0;34m\u001b[0m\u001b[0;34m\u001b[0m\u001b[0m\n\u001b[1;32m     24\u001b[0m \u001b[0;34m\u001b[0m\u001b[0m\n\u001b[0;32m---> 25\u001b[0;31m \u001b[0msign\u001b[0m\u001b[0;34m(\u001b[0m\u001b[0;34m\"abc\"\u001b[0m\u001b[0;34m,\u001b[0m \u001b[0mprivate_key\u001b[0m\u001b[0;34m)\u001b[0m\u001b[0;34m\u001b[0m\u001b[0m\n\u001b[0m",
      "\u001b[0;32m<ipython-input-384-e0f77f5df8e8>\u001b[0m in \u001b[0;36msign\u001b[0;34m(message, private_key)\u001b[0m\n\u001b[1;32m      6\u001b[0m \u001b[0;31m#     message_h = hashlib.sha256(message_bytes).digest()\u001b[0m\u001b[0;34m\u001b[0m\u001b[0;34m\u001b[0m\u001b[0m\n\u001b[1;32m      7\u001b[0m \u001b[0;31m#     message_hex = codecs.decode(message_h, 'hex')\u001b[0m\u001b[0;34m\u001b[0m\u001b[0;34m\u001b[0m\u001b[0m\n\u001b[0;32m----> 8\u001b[0;31m     \u001b[0mkey\u001b[0m \u001b[0;34m=\u001b[0m \u001b[0mRSA\u001b[0m\u001b[0;34m.\u001b[0m\u001b[0mgenerate\u001b[0m\u001b[0;34m(\u001b[0m\u001b[0;36m64\u001b[0m\u001b[0;34m)\u001b[0m\u001b[0;34m\u001b[0m\u001b[0m\n\u001b[0m\u001b[1;32m      9\u001b[0m \u001b[0;34m\u001b[0m\u001b[0m\n\u001b[1;32m     10\u001b[0m     \u001b[0mf\u001b[0m \u001b[0;34m=\u001b[0m \u001b[0mopen\u001b[0m\u001b[0;34m(\u001b[0m\u001b[0;34m'privkey'\u001b[0m\u001b[0;34m,\u001b[0m \u001b[0;34m'wb'\u001b[0m\u001b[0;34m)\u001b[0m\u001b[0;34m\u001b[0m\u001b[0m\n",
      "\u001b[0;32m~/vcub/lib/python3.6/site-packages/Crypto/PublicKey/RSA.py\u001b[0m in \u001b[0;36mgenerate\u001b[0;34m(self, bits, randfunc, progress_func, e)\u001b[0m\n\u001b[1;32m    502\u001b[0m             \u001b[0mIf\u001b[0m\u001b[0;31m \u001b[0m\u001b[0;31m`\u001b[0m\u001b[0;31m`\u001b[0m\u001b[0;32mTrue\u001b[0m\u001b[0;31m`\u001b[0m\u001b[0;31m`\u001b[0m\u001b[0;34m,\u001b[0m \u001b[0mthe\u001b[0m \u001b[0mlibrary\u001b[0m \u001b[0mwill\u001b[0m \u001b[0mverify\u001b[0m \u001b[0mthat\u001b[0m \u001b[0mthe\u001b[0m \u001b[0mprovided\u001b[0m \u001b[0mcomponents\u001b[0m\u001b[0;34m\u001b[0m\u001b[0m\n\u001b[1;32m    503\u001b[0m             \u001b[0mfulfil\u001b[0m \u001b[0mthe\u001b[0m \u001b[0mmain\u001b[0m \u001b[0mRSA\u001b[0m \u001b[0mproperties\u001b[0m\u001b[0;34m.\u001b[0m\u001b[0;34m\u001b[0m\u001b[0m\n\u001b[0;32m--> 504\u001b[0;31m \u001b[0;34m\u001b[0m\u001b[0m\n\u001b[0m\u001b[1;32m    505\u001b[0m     \u001b[0mRaises\u001b[0m\u001b[0;34m:\u001b[0m\u001b[0;34m\u001b[0m\u001b[0m\n\u001b[1;32m    506\u001b[0m         \u001b[0mValueError\u001b[0m\u001b[0;34m:\u001b[0m \u001b[0mwhen\u001b[0m \u001b[0mthe\u001b[0m \u001b[0mkey\u001b[0m \u001b[0mbeing\u001b[0m \u001b[0mimported\u001b[0m \u001b[0mfails\u001b[0m \u001b[0mthe\u001b[0m \u001b[0mmost\u001b[0m \u001b[0mbasic\u001b[0m \u001b[0mRSA\u001b[0m \u001b[0mvalidity\u001b[0m \u001b[0mchecks\u001b[0m\u001b[0;34m.\u001b[0m\u001b[0;34m\u001b[0m\u001b[0m\n",
      "\u001b[0;31mValueError\u001b[0m: RSA modulus length must be a multiple of 256 and >= 1024"
     ]
    }
   ],
   "source": [
    "print(private_key)\n",
    "def sign(message, private_key):\n",
    "    signer = PKCS1_v1_5.new(private_key)\n",
    "    \n",
    "#     message_bytes = codecs.decode(message, 'hex')\n",
    "#     message_h = hashlib.sha256(message_bytes).digest()\n",
    "#     message_hex = codecs.decode(message_h, 'hex')\n",
    "    key = RSA.generate(64)\n",
    "    \n",
    "    f = open('privkey', 'wb')\n",
    "    f.close()\n",
    "    f.write(key.publickey().exportKey('PEM'))\n",
    "    \n",
    "    f = open('privkey', 'wb')\n",
    "    f.write(key.exportKey('PEM'))\n",
    "    f.close()\n",
    "    \n",
    "    \n",
    "    key = RSA.importKey(open('privkey').read())\n",
    "    h = SHA256.new(message.encode('utf-8'))\n",
    "    signature = PKCS1_v1_5.new(key).sign(h)\n",
    "    return (signature)\n",
    "#     return binascii.hexlify(signer.sign(h)).decode('ascii')\n",
    "\n",
    "sign(\"abc\", private_key)"
   ]
  },
  {
   "cell_type": "code",
   "execution_count": 375,
   "metadata": {},
   "outputs": [
    {
     "name": "stdout",
     "output_type": "stream",
     "text": [
      "b\"M&'\\x9c\\xa4@mK\\x1c\\xd4y\\xf8\\x19X\\xe3\\xb5\\xa9rM\\xbaS*aH?\\xef\\xfc\\xe3\\xc9\\xa5\\xbd\\xe8\"\n"
     ]
    }
   ],
   "source": [
    "text = 'IlyaKachko'\n",
    "key = DSA.generate(64)\n",
    "h = SHA.new(text).digest()\n",
    "k = \n",
    "# pub_key = open(')\n",
    "# text_bytes = codecs.decode(text, 'hex')\n",
    "hash = SHA256.new(text.encode('utf-8')).digest()\n",
    "print(hash)\n",
    "signature = key"
   ]
  },
  {
   "cell_type": "code",
   "execution_count": 387,
   "metadata": {},
   "outputs": [
    {
     "ename": "TypeError",
     "evalue": "Unicode-objects must be encoded before hashing",
     "output_type": "error",
     "traceback": [
      "\u001b[0;31m-----------------------------------------------\u001b[0m",
      "\u001b[0;31mTypeError\u001b[0m     Traceback (most recent call last)",
      "\u001b[0;32m<ipython-input-387-f3acb90a7cfa>\u001b[0m in \u001b[0;36m<module>\u001b[0;34m\u001b[0m\n\u001b[1;32m      5\u001b[0m     \u001b[0mdigest\u001b[0m\u001b[0;34m.\u001b[0m\u001b[0mupdate\u001b[0m\u001b[0;34m(\u001b[0m\u001b[0mmsg\u001b[0m\u001b[0;34m)\u001b[0m\u001b[0;34m\u001b[0m\u001b[0m\n\u001b[1;32m      6\u001b[0m     \u001b[0;32mreturn\u001b[0m \u001b[0msigner\u001b[0m\u001b[0;34m.\u001b[0m\u001b[0msign\u001b[0m\u001b[0;34m(\u001b[0m\u001b[0mdigest\u001b[0m\u001b[0;34m)\u001b[0m\u001b[0;34m\u001b[0m\u001b[0m\n\u001b[0;32m----> 7\u001b[0;31m \u001b[0msign\u001b[0m\u001b[0;34m(\u001b[0m\u001b[0mtext\u001b[0m\u001b[0;34m,\u001b[0m \u001b[0mprivate_key\u001b[0m\u001b[0;34m)\u001b[0m\u001b[0;34m\u001b[0m\u001b[0m\n\u001b[0m",
      "\u001b[0;32m<ipython-input-387-f3acb90a7cfa>\u001b[0m in \u001b[0;36msign\u001b[0;34m(msg, priv_key)\u001b[0m\n\u001b[1;32m      3\u001b[0m     \u001b[0msigner\u001b[0m \u001b[0;34m=\u001b[0m \u001b[0mPKCS1_v1_5\u001b[0m\u001b[0;34m.\u001b[0m\u001b[0mnew\u001b[0m\u001b[0;34m(\u001b[0m\u001b[0mpriv_key\u001b[0m\u001b[0;34m)\u001b[0m\u001b[0;34m\u001b[0m\u001b[0m\n\u001b[1;32m      4\u001b[0m     \u001b[0mdigest\u001b[0m \u001b[0;34m=\u001b[0m \u001b[0mSHA256\u001b[0m\u001b[0;34m.\u001b[0m\u001b[0mnew\u001b[0m\u001b[0;34m(\u001b[0m\u001b[0;34m)\u001b[0m\u001b[0;34m\u001b[0m\u001b[0m\n\u001b[0;32m----> 5\u001b[0;31m     \u001b[0mdigest\u001b[0m\u001b[0;34m.\u001b[0m\u001b[0mupdate\u001b[0m\u001b[0;34m(\u001b[0m\u001b[0mmsg\u001b[0m\u001b[0;34m)\u001b[0m\u001b[0;34m\u001b[0m\u001b[0m\n\u001b[0m\u001b[1;32m      6\u001b[0m     \u001b[0;32mreturn\u001b[0m \u001b[0msigner\u001b[0m\u001b[0;34m.\u001b[0m\u001b[0msign\u001b[0m\u001b[0;34m(\u001b[0m\u001b[0mdigest\u001b[0m\u001b[0;34m)\u001b[0m\u001b[0;34m\u001b[0m\u001b[0m\n\u001b[1;32m      7\u001b[0m \u001b[0msign\u001b[0m\u001b[0;34m(\u001b[0m\u001b[0mtext\u001b[0m\u001b[0;34m,\u001b[0m \u001b[0mprivate_key\u001b[0m\u001b[0;34m)\u001b[0m\u001b[0;34m\u001b[0m\u001b[0m\n",
      "\u001b[0;32m~/vcub/lib/python3.6/site-packages/Crypto/Hash/hashalgo.py\u001b[0m in \u001b[0;36mupdate\u001b[0;34m(self, data)\u001b[0m\n",
      "\u001b[0;31mTypeError\u001b[0m: Unicode-objects must be encoded before hashing"
     ]
    }
   ],
   "source": [
    "def sign(msg, priv_key):\n",
    "    global hash\n",
    "    signer = PKCS1_v1_5.new(priv_key)\n",
    "    digest = SHA256.new()\n",
    "    digest.update(ms)\n",
    "    return signer.sign(digest)\n",
    "sign(text, private_key)"
   ]
  },
  {
   "cell_type": "code",
   "execution_count": null,
   "metadata": {},
   "outputs": [],
   "source": []
  }
 ],
 "metadata": {
  "kernelspec": {
   "display_name": "Python 3",
   "language": "python",
   "name": "python3"
  },
  "language_info": {
   "codemirror_mode": {
    "name": "ipython",
    "version": 3
   },
   "file_extension": ".py",
   "mimetype": "text/x-python",
   "name": "python",
   "nbconvert_exporter": "python",
   "pygments_lexer": "ipython3",
   "version": "3.6.2"
  }
 },
 "nbformat": 4,
 "nbformat_minor": 2
}
