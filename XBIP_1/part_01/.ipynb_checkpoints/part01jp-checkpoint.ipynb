{
 "cells": [
  {
   "cell_type": "code",
   "execution_count": 92,
   "metadata": {},
   "outputs": [],
   "source": [
    "import secrets\n",
    "import time\n",
    "import random\n",
    "import hashlib\n",
    "import base58\n",
    "\n",
    "\n",
    "import ecdsa\n",
    "import binascii\n",
    "\n",
    "import codecs\n"
   ]
  },
  {
   "cell_type": "code",
   "execution_count": 111,
   "metadata": {},
   "outputs": [],
   "source": [
    "# wallet.py\n",
    "\n",
    "class KeyGenerator():\n",
    "    def __init__(self):\n",
    "        self.CURVE_ORDER = int('FFFFFFFFFFFFFFFFFFFFFFFFFFFFFFFEBAAEDCE6AF48A03BBFD25E8CD0364141', 16)\n",
    "        self.POOL_SIZE = 256\n",
    "        self.KEY_BYTES = 32\n",
    "        self.pool = [0] * self.POOL_SIZE\n",
    "        self.pool_pointer = 0\n",
    "        self.prng_state = None\n",
    "        self.__init_pool()\n",
    "        \n",
    "    def __init_pool(self):\n",
    "        for i in range(self.POOL_SIZE):\n",
    "            random_byte = secrets.randbits(8)\n",
    "            self.__seed_byte(random_byte)\n",
    "        time_int = int(time.time())\n",
    "        self.__seed_int(time_int)\n",
    "    \n",
    "    def __seed_int(self, n):\n",
    "        self.__seed_byte(n)\n",
    "        self.__seed_byte(n >> 8)\n",
    "        self.__seed_byte(n >> 16)\n",
    "        self.__seed_byte(n >> 24)\n",
    "    \n",
    "    def __seed_byte(self, n):\n",
    "        self.pool[self.pool_pointer] ^= n & 255\n",
    "        self.pool_pointer += 1\n",
    "        if self.pool_pointer >= self.POOL_SIZE:\n",
    "            self.pool_pointer = 0\n",
    "    \n",
    "    def seed_input(self, str_input):\n",
    "        time_int = int(time.time())\n",
    "        self.__seed_int(time_int)\n",
    "        for char in str_input:\n",
    "            char_code = ord(char)\n",
    "            self.__seed_byte(char_code)\n",
    "\n",
    "    def generate_key(self):\n",
    "        big_int = self.__generate_big_int()\n",
    "        big_int %= (self.CURVE_ORDER - 1)\n",
    "        big_int += 1\n",
    "        key = hex(big_int)[2:]\n",
    "        return key\n",
    "    \n",
    "    def __generate_big_int(self):\n",
    "        if self.prng_state is None:\n",
    "            seed = int.from_bytes(self.pool, byteorder='big', signed=False)\n",
    "            random.seed(seed)\n",
    "            self.prng_state = random.getstate()\n",
    "            random.setstate(self.prng_state)\n",
    "            big_int = random.getrandbits(self.KEY_BYTES * 8)\n",
    "            self.prng_state = random.getstate()\n",
    "            return big_int\n",
    "\n",
    "class Wallet:\n",
    "    def __init__(self, seed=None, key_to_file=False):\n",
    "        self.__create_priv_key(seed, key_to_file)\n",
    "        self.public_keys = []\n",
    "\n",
    "    def __create_priv_key(self, seed=None, key_to_file=False):\n",
    "        keygen = KeyGenerator()\n",
    "        if seed:\n",
    "            keygen.seed_input(seed)\n",
    "        key = keygen.generate_key()\n",
    "        if key_to_file:\n",
    "            f = open(\"privkey.pem\", \"w+\")\n",
    "            f.write(key)\n",
    "            f.close()\n",
    "        else:\n",
    "            print(key)\n",
    "        del key\n",
    "        del keygen\n",
    "\n",
    "    def priv_to_WIF(self, filename):\n",
    "        f = open(filename, \"r\")\n",
    "        if f.mode == \"r\":\n",
    "            key = f.read()\n",
    "            print(key)\n",
    "            _priv = key.upper()\n",
    "            priv_add_x80 = \"80\" + _priv\n",
    "            sh = sha256(sha256(priv_add_x80))\n",
    "            first_4_bytes = sh[0:8]\n",
    "            resulting_hex = priv_add_x80 + first_4_bytes\n",
    "            result_wif = self.base58(resulting_hex)\n",
    "            del key\n",
    "            return result_wif\n",
    "        else: print (\"Incorrect file!\")\n",
    "    \n",
    "    def base58(self, address_hex):\n",
    "        alphabet = '123456789ABCDEFGHJKLMNPQRSTUVWXYZabcdefghijkmnopqrstuvwxyz'\n",
    "        b58_string = ''\n",
    "        leading_zeros = len(address_hex) - len(address_hex.lstrip('0'))\n",
    "        address_int = int(address_hex, 16)\n",
    "        while address_int > 0:\n",
    "            digit = address_int % 58\n",
    "            digit_char = alphabet[digit]\n",
    "            b58_string = digit_char + b58_string\n",
    "            address_int //= 58\n",
    "        ones = leading_zeros // 2\n",
    "        for one in range(ones):\n",
    "            b58_string = '1' + b58_string\n",
    "        return b58_string\n",
    "    \n",
    "    def private_to_public(self, private_key, is_print=False):\n",
    "        pk_bytes = codecs.decode(private_key, 'hex')\n",
    "        key = ecdsa.SigningKey.from_string(pk_bytes, curve=ecdsa.SECP256k1).verifying_key\n",
    "        key_bytes = key.to_string()\n",
    "        key_hex = codecs.encode(key_bytes, 'hex')\n",
    "        btc_byte = b'04'\n",
    "        public_key = btc_byte + key_hex\n",
    "        \n",
    "        if is_print:\n",
    "            print(public_key.decode('utf-8'))\n",
    "        \n",
    "        return public_key.decode('utf-8')\n",
    "    \n",
    "    def public_key_to_addr(self, key):\n",
    "        public_key_bytes = codecs.decode(key, 'hex')\n",
    "\n",
    "        # Run SHA256 for the public key\n",
    "        sha256_bpk = hashlib.sha256(public_key_bytes)\n",
    "        sha256_bpk_digest = sha256_bpk.digest()\n",
    "\n",
    "        # Run ripemd160 for the SHA256\n",
    "        ripemd160_bpk = hashlib.new('ripemd160')\n",
    "        ripemd160_bpk.update(sha256_bpk_digest)\n",
    "        ripemd160_bpk_digest = ripemd160_bpk.digest()\n",
    "        ripemd160_bpk_hex = codecs.encode(ripemd160_bpk_digest, 'hex')\n",
    "\n",
    "        # Add network byte\n",
    "        network_byte = b'00'\n",
    "        network_bitcoin_public_key = network_byte + ripemd160_bpk_hex\n",
    "        network_bitcoin_public_key_bytes = codecs.decode(network_bitcoin_public_key, 'hex')\n",
    "\n",
    "        # Double SHA256 to get checksum\n",
    "        sha256_2_nbpk_digest = hashlib.sha256(hashlib.sha256(network_bitcoin_public_key_bytes).digest()).digest()\n",
    "        sha256_2_hex = codecs.encode(sha256_2_nbpk_digest, 'hex')\n",
    "        checksum = sha256_2_hex[:8]\n",
    "\n",
    "        # Concatenate public key and checksum to get the address\n",
    "        address_hex = (network_bitcoin_public_key + checksum).decode('utf-8')\n",
    "        address = self.base58(address_hex)\n",
    "        return address\n",
    "    \n",
    "    def private_key_to_addr(self, key):\n",
    "        return self.public_key_to_addr(private_to_public(key))\n",
    "    \n",
    "    def sign_message(self, message, private_key):\n",
    "        key_bytes = codecs.decode(private_key, 'hex')\n",
    "\n",
    "        # Private signing key ecdsa.SECP256k1 \n",
    "        sk = ecdsa.SigningKey.from_string(key_bytes, curve=ecdsa.SECP256k1)\n",
    "\n",
    "        # Public verifying key (64 byte long, missing 04 byte at the beginning)\n",
    "        vk = sk.verifying_key\n",
    "\n",
    "        # Message signing\n",
    "        signed_msg = sk.sign(message.encode('utf-8'))\n",
    "        \n",
    "        public_key = self.private_to_public(private_key)\n",
    "        return (signed_msg, public_key)"
   ]
  },
  {
   "cell_type": "code",
   "execution_count": 112,
   "metadata": {},
   "outputs": [
    {
     "name": "stdout",
     "output_type": "stream",
     "text": [
      "dc5efd14827d59f57f53a77153eb9ebeae9f3256d05193a4f4ececb69b85fee6\n"
     ]
    }
   ],
   "source": [
    "wallet = Wallet(key_to_file=True)\n",
    "wallet.priv_to_WIF('privkey.pem')\n",
    "priv_key = '896d8f36c5e2d12f5ef64f78cb4905a7972cb8339f48a08d07d511097aa49d11'\n",
    "wif_key = '5JrozddwoFcYfaN76oeNsMR4weo2AndrRP8XuYx3Pyn2viRJBVS'"
   ]
  },
  {
   "cell_type": "code",
   "execution_count": 115,
   "metadata": {},
   "outputs": [
    {
     "data": {
      "text/plain": [
       "(b'\\x00\\xbd\\xb6*\\xc3\\xd0\\x0c\\x06\\x19\\xe1:\\xce\\xa6\\x8c(\\t\\x1c\\xf6\\x10U\\\\(\\x7fF\\xa7X$;\\xea\\x94\\xea\\\\\\xa8\\xc7\\x0f\\x03\\xcc\\x0ff\\xcd?\\xd6\\x1e\\xda\\x80P\\x9e\\xa9e\\x9c\\rMc\\x18\\xf6\\xf4O\\x19c\\xef\\x92EV\\xe5',\n",
       " '0487ed038b2eed04a39e44de298c81a9f7bb3113abe112e6c6c93b5715813d50cc306352af9d86ba10bc51e15c7d861d26a555fdca1bef72870221a4beed36f1a5')"
      ]
     },
     "execution_count": 115,
     "metadata": {},
     "output_type": "execute_result"
    }
   ],
   "source": [
    "\n",
    "\n",
    "\n",
    "publ_key = wallet.private_to_public(priv_key)\n",
    "\n",
    "address = wallet.private_key_to_addr(priv_key)\n",
    "\n",
    "message = \"IlyaKachko\"\n",
    "\n",
    "wallet.sign_message(message, priv_key)"
   ]
  },
  {
   "cell_type": "code",
   "execution_count": 98,
   "metadata": {},
   "outputs": [],
   "source": [
    "# wallet_cli.py\n"
   ]
  },
  {
   "cell_type": "code",
   "execution_count": 99,
   "metadata": {},
   "outputs": [],
   "source": [
    "class Transaction:\n",
    "    \n",
    "    def __init__(self, private_key, output_transaction_hash, source_index, script_sig, outputs):\n",
    "        if not private_key:\n",
    "            raise ValueError('No private key !')\n",
    "        if not output_transaction_hash:\n",
    "            raise ValueError('No output transaction hash !')\n",
    "        if not source_index:\n",
    "            raise ValueError('No source index !')\n",
    "        if not script_sig:\n",
    "            raise ValueError('No script signature !')\n",
    "        if not outputs:\n",
    "            raise ValueError('No outputs !')\n",
    "        return make_signed_transaction(private_key, output_transaction_hash, source_index, script_sig, outputs)\n",
    "    \n",
    "    def make_signed_transaction(private_key, output_transaction_hash, source_index, script_pub_key, outputs):\n",
    "        myTxn_forSig = (make_raw_transaction(output_transaction_hash, source_index, script_pub_key, outputs)\n",
    "             + \"01000000\") # hash code\n",
    "\n",
    "        s256 = hashlib.sha256(hashlib.sha256(myTxn_forSig.decode('hex')).digest()).digest()\n",
    "        sk = ecdsa.SigningKey.from_string(privateKey.decode('hex'), curve=ecdsa.SECP256k1)\n",
    "        sig = sk.sign_digest(s256, sigencode=ecdsa.util.sigencode_der) + '\\01' # 01 is hashtype\n",
    "        pubKey = keyUtils.privateKeyToPublicKey(privateKey)\n",
    "        script_sig = utils.varstr(sig).encode('hex') + utils.varstr(pubKey.decode('hex')).encode('hex')\n",
    "        signed_txn = make_raw_transaction(output_transaction_hash, source_index, script_sig, outputs)\n",
    "        verifyTxnSignature(signed_txn)\n",
    "        return signed_txn\n",
    "    \n",
    "    def make_raw_transaction(output_transaction_hash, source_index, script_sig, outputs):\n",
    "        def make_output(data):\n",
    "            redemption_satoshis, output_script = data\n",
    "            return (struct.pack(\"<Q\", redemption_satoshis).encode('hex') +\n",
    "            '%02x' % len(output_script.decode('hex')) + output_script)\n",
    "        formatted_outputs = ''.join(map(make_output, outputs))\n",
    "        return (\n",
    "            \"01000000\" + # 4 bytes version\n",
    "            \"01\" + # varint for number of inputs\n",
    "            output_transaction_hash.decode('hex')[::-1].encode('hex') + # reverse outputTransactionHash\n",
    "            struct.pack('<L', source_index).encode('hex') +\n",
    "            '%02x' % len(script_sig.decode('hex')) + script_sig +\n",
    "            \"ffffffff\" + # sequence\n",
    "            \"%02x\" % len(outputs) + # number of outputs\n",
    "            formatted_outputs +\n",
    "            \"00000000\" # lockTime\n",
    "            )\n",
    "    def addrHashToScriptPubKey(b58str):\n",
    "        assert(len(b58str) == 34)\n",
    "        # 76     A9      14 (20 bytes)                                 88             AC\n",
    "        return '76a914' + base58.base58CheckDecode(b58str).encode('hex') + '88ac'"
   ]
  },
  {
   "cell_type": "code",
   "execution_count": null,
   "metadata": {},
   "outputs": [],
   "source": [
    "transaction = Transaction(private_key,\n",
    "                         \"81b4c832d70cb56ff957589752eb4125a4cab78a25a8fc52d6a09e5bd4404d48\",\n",
    "                         0,\n",
    "                         )"
   ]
  },
  {
   "cell_type": "code",
   "execution_count": 125,
   "metadata": {},
   "outputs": [],
   "source": [
    "from Crypto.PublicKey import RSA\n",
    "class Transaction:\n",
    "\n",
    "    def __init__(self, sender_address, sender_private_key, recipient_address, value):\n",
    "        self.sender_address = sender_address\n",
    "        self.sender_private_key = sender_private_key\n",
    "        self.recipient_address = recipient_address\n",
    "        self.value = value\n",
    "\n",
    "    def __getattr__(self, attr):\n",
    "        return self.data[attr]\n",
    "\n",
    "    def to_dict(self):\n",
    "        return dict({'sender_address': self.sender_address,\n",
    "                            'recipient_address': self.recipient_address,\n",
    "                            'value': self.value})\n",
    "\n",
    "    def sign_transaction(self):\n",
    "        \"\"\"\n",
    "        Sign transaction with private key\n",
    "        \"\"\"\n",
    "        private_key = RSA.importKey(binascii.unhexlify(self.sender_private_key))\n",
    "        signer = PKCS1_v1_5.new(private_key)\n",
    "        h = SHA.new(str(self.to_dict()).encode('utf8'))\n",
    "        return binascii.hexlify(signer.sign(h)).decode('ascii')\n"
   ]
  },
  {
   "cell_type": "code",
   "execution_count": 147,
   "metadata": {},
   "outputs": [
    {
     "data": {
      "text/plain": [
       "b'\\x04A\\x885\\x14\\x80=@K \"\\x84c\\xcfzw\\xc7\\xf7\\xe9\\xce^\\xd9\\xddv\\x7f\\x97\\x9f\\xeb\\x87\\xfb\\xf1\\xc6\\xf8\\xf7NZ\\xef\\xde\\xf6q\\xbf7\\xdf\\xd7\\xf8\\xf1\\xad<wN\\xdd\\xe7]t\\xf7\\xb6\\x9a\\xe3\\xd7u\\xd4CCE \\x0fP\\x12\\xc8\\x08\\xa1\\x18'"
      ]
     },
     "execution_count": 147,
     "metadata": {},
     "output_type": "execute_result"
    }
   ],
   "source": [
    "from base64 import b64decode\n",
    "prk = '-----BEGIN RSA PUBLIC KEY----- ' + priv_key + ' -----END RSA PUBLIC KEY-----'\n",
    "sender_addr = '1KKKK6N21XKo48zWKuQKXdvSsCf95ibHFa'\n",
    "prk = b64decode(prk)\n",
    "transaction = Transaction(address, prk, sender_addr, 0.1)\n",
    "prk"
   ]
  },
  {
   "cell_type": "code",
   "execution_count": 143,
   "metadata": {},
   "outputs": [
    {
     "data": {
      "text/plain": [
       "{'sender_address': '1HvBtswhMkii3iiD17phhhiMd9C66J8GBC',\n",
       " 'recipient_address': '1KKKK6N21XKo48zWKuQKXdvSsCf95ibHFa',\n",
       " 'value': 0.1}"
      ]
     },
     "execution_count": 143,
     "metadata": {},
     "output_type": "execute_result"
    }
   ],
   "source": [
    "transaction.to_dict()"
   ]
  },
  {
   "cell_type": "code",
   "execution_count": 145,
   "metadata": {},
   "outputs": [
    {
     "ename": "Error",
     "evalue": "Non-hexadecimal digit found",
     "output_type": "error",
     "traceback": [
      "\u001b[0;31m-------------------------------------------------\u001b[0m",
      "\u001b[0;31mError\u001b[0m           Traceback (most recent call last)",
      "\u001b[0;32m<ipython-input-145-e4fa27d2ce5e>\u001b[0m in \u001b[0;36m<module>\u001b[0;34m\u001b[0m\n\u001b[0;32m----> 1\u001b[0;31m \u001b[0mtransaction\u001b[0m\u001b[0;34m.\u001b[0m\u001b[0msign_transaction\u001b[0m\u001b[0;34m(\u001b[0m\u001b[0;34m)\u001b[0m\u001b[0;34m\u001b[0m\u001b[0m\n\u001b[0m",
      "\u001b[0;32m<ipython-input-125-b7f8d327e99b>\u001b[0m in \u001b[0;36msign_transaction\u001b[0;34m(self)\u001b[0m\n\u001b[1;32m     20\u001b[0m         \u001b[0mSign\u001b[0m \u001b[0mtransaction\u001b[0m \u001b[0;32mwith\u001b[0m \u001b[0mprivate\u001b[0m \u001b[0mkey\u001b[0m\u001b[0;34m\u001b[0m\u001b[0m\n\u001b[1;32m     21\u001b[0m         \"\"\"\n\u001b[0;32m---> 22\u001b[0;31m         \u001b[0mprivate_key\u001b[0m \u001b[0;34m=\u001b[0m \u001b[0mRSA\u001b[0m\u001b[0;34m.\u001b[0m\u001b[0mimportKey\u001b[0m\u001b[0;34m(\u001b[0m\u001b[0mbinascii\u001b[0m\u001b[0;34m.\u001b[0m\u001b[0munhexlify\u001b[0m\u001b[0;34m(\u001b[0m\u001b[0mself\u001b[0m\u001b[0;34m.\u001b[0m\u001b[0msender_private_key\u001b[0m\u001b[0;34m)\u001b[0m\u001b[0;34m)\u001b[0m\u001b[0;34m\u001b[0m\u001b[0m\n\u001b[0m\u001b[1;32m     23\u001b[0m         \u001b[0msigner\u001b[0m \u001b[0;34m=\u001b[0m \u001b[0mPKCS1_v1_5\u001b[0m\u001b[0;34m.\u001b[0m\u001b[0mnew\u001b[0m\u001b[0;34m(\u001b[0m\u001b[0mprivate_key\u001b[0m\u001b[0;34m)\u001b[0m\u001b[0;34m\u001b[0m\u001b[0m\n\u001b[1;32m     24\u001b[0m         \u001b[0mh\u001b[0m \u001b[0;34m=\u001b[0m \u001b[0mSHA\u001b[0m\u001b[0;34m.\u001b[0m\u001b[0mnew\u001b[0m\u001b[0;34m(\u001b[0m\u001b[0mstr\u001b[0m\u001b[0;34m(\u001b[0m\u001b[0mself\u001b[0m\u001b[0;34m.\u001b[0m\u001b[0mto_dict\u001b[0m\u001b[0;34m(\u001b[0m\u001b[0;34m)\u001b[0m\u001b[0;34m)\u001b[0m\u001b[0;34m.\u001b[0m\u001b[0mencode\u001b[0m\u001b[0;34m(\u001b[0m\u001b[0;34m'utf8'\u001b[0m\u001b[0;34m)\u001b[0m\u001b[0;34m)\u001b[0m\u001b[0;34m\u001b[0m\u001b[0m\n",
      "\u001b[0;31mError\u001b[0m: Non-hexadecimal digit found"
     ]
    }
   ],
   "source": [
    "transaction.sign_transaction()"
   ]
  },
  {
   "cell_type": "code",
   "execution_count": null,
   "metadata": {},
   "outputs": [],
   "source": []
  }
 ],
 "metadata": {
  "kernelspec": {
   "display_name": "Python 3",
   "language": "python",
   "name": "python3"
  },
  "language_info": {
   "codemirror_mode": {
    "name": "ipython",
    "version": 3
   },
   "file_extension": ".py",
   "mimetype": "text/x-python",
   "name": "python",
   "nbconvert_exporter": "python",
   "pygments_lexer": "ipython3",
   "version": "3.6.2"
  }
 },
 "nbformat": 4,
 "nbformat_minor": 2
}
