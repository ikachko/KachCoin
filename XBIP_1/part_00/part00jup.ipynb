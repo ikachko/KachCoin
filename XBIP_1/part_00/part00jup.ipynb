{
 "cells": [
  {
   "cell_type": "code",
   "execution_count": 26,
   "metadata": {},
   "outputs": [],
   "source": [
    "import numpy as np\n",
    "import matplotlib.pyplot as plt\n"
   ]
  },
  {
   "cell_type": "code",
   "execution_count": 20,
   "metadata": {},
   "outputs": [],
   "source": [
    "class Point:\n",
    "    b = 7\n",
    "    def __init__(self, x=float('inf'), y=float('inf')):\n",
    "        self.x = x\n",
    "        self.y = y\n",
    "        \n",
    "    def copy(self):\n",
    "        return Point(self.x, self.y)\n",
    "    \n",
    "    def is_zero(self):\n",
    "        return self.x > 1e20 or self.x < -1e20\n",
    "    \n",
    "    def neg(self):\n",
    "        return Point(self.x, -self.y)\n",
    "\n",
    "    def dbl(self):\n",
    "        if self.is_zero():\n",
    "            return self.copy()\n",
    "        try:\n",
    "            L = (3 * self.x * self.x) / (2 * self.y)\n",
    "        except ZeroDivisionError:\n",
    "            return Point()\n",
    "        x = L * L - 2 * self.x\n",
    "        return Point(x, L * (self.x - x) - self.y)\n",
    "\n",
    "    def add(self, q):\n",
    "        if self.x == q.x and self.y == q.y:\n",
    "            return self.dbl()\n",
    "        if self.is_zero():\n",
    "            return q.copy()\n",
    "        if q.is_zero():\n",
    "            return self.copy()\n",
    "        try:\n",
    "            L = (q.y - self.y) / (q.x - self.x)\n",
    "        except ZeroDivisionError:\n",
    "            return Point()\n",
    "        x = L * L - self.x - q.x\n",
    "        return Point(x, L * (self.x - x) - self.y)\n",
    "    \n",
    "    def mul(self, n):\n",
    "        p = self.copy()\n",
    "        r = Point()\n",
    "        i = 1\n",
    "        while i <= n:\n",
    "            if i & n:\n",
    "                r = r.add(p)\n",
    "            p = p.dbl()\n",
    "            i <<= 1\n",
    "        return r\n",
    "    \n",
    "    def __str__(self):\n",
    "        return \"({:.3f}, {:.3f})\".format(self.x, self.y)\n",
    "    \n",
    "    def values(self):\n",
    "        return (self.x, self.y)\n",
    "def show(s, p):\n",
    "    print(s, \"Zero\" if p.is_zero() else p)\n",
    "\n",
    "def from_y(y):\n",
    "    n = y * y - Point.b\n",
    "    x = n ** (1./3) if n>=0 else -((-n)**(1./3))\n",
    "    return Point(x, y)\n"
   ]
  },
  {
   "cell_type": "code",
   "execution_count": 21,
   "metadata": {},
   "outputs": [
    {
     "name": "stdout",
     "output_type": "stream",
     "text": [
      "a = (3.072, 6.000)\n",
      "b = (2.080, 4.000)\n",
      "c = a + b = (-1.090, 2.389)\n",
      "d = -c = (-1.090, -2.389)\n",
      "c + d = Zero\n",
      "a + b + d = Zero\n",
      "a * 12345 = (2.488, 4.734)\n"
     ]
    }
   ],
   "source": [
    "a = from_y(my_x)\n",
    "b = from_y(my_y)\n",
    "show(\"a =\", a)\n",
    "show(\"b =\", b)\n",
    "c = a.add(b)\n",
    "show(\"c = a + b =\", c)\n",
    "d = c.neg()\n",
    "show(\"d = -c =\", d)\n",
    "show(\"c + d =\", c.add(d))\n",
    "show(\"a + b + d =\", a.add(b.add(d)))\n",
    "show(\"a * 12345 =\", a.mul(12345))\n"
   ]
  },
  {
   "cell_type": "code",
   "execution_count": 22,
   "metadata": {},
   "outputs": [],
   "source": [
    "def elliptic_func(x, a, b):\n",
    "    return np.sqrt(x**3 + a * x + b)"
   ]
  },
  {
   "cell_type": "code",
   "execution_count": 29,
   "metadata": {},
   "outputs": [
    {
     "data": {
      "text/plain": [
       "[<matplotlib.lines.Line2D at 0x11c23a518>]"
      ]
     },
     "execution_count": 29,
     "metadata": {},
     "output_type": "execute_result"
    },
    {
     "data": {
      "image/png": "[encoded data removed]",
      "text/plain": [
       "<Figure size 432x288 with 1 Axes>"
      ]
     },
     "metadata": {
      "needs_background": "light"
     },
     "output_type": "display_data"
    }
   ],
   "source": [
    "x = np.arange(0, 10000, 0.1)\n",
    "y = [elliptic_func(xi, a.values()[0] + a.values()[1], b.values()[0] + b.values()[1]) for xi in x]\n",
    "plt.plot(x, y)\n",
    "# print(x)\n",
    "# print(y)"
   ]
  },
  {
   "cell_type": "code",
   "execution_count": 35,
   "metadata": {},
   "outputs": [
    {
     "data": {
      "image/png": "[encoded data removed]",
      "text/plain": [
       "<Figure size 432x288 with 1 Axes>"
      ]
     },
     "metadata": {
      "needs_background": "light"
     },
     "output_type": "display_data"
    }
   ],
   "source": [
    "my_a = 6 # Kachko\n",
    "my_b = 4 # Ilya\n",
    "\n",
    "def elliptic_draw(a, b, save_plot=False):\n",
    "    y, x = np.ogrid[-5:5:100j, -5:5:100j]\n",
    "    plt.contour(x.ravel(), y.ravel(), pow(y, 2) - pow(x, 3) - x * a - b, [0])\n",
    "    plt.grid()\n",
    "    if save_plot:\n",
    "        plt.savefig(\"ikachko_elliptic_curve.png\")\n",
    "    plt.show()\n",
    "    \n",
    "elliptic_draw(my_a, my_b, save_plot=True)"
   ]
  },
  {
   "cell_type": "code",
   "execution_count": null,
   "metadata": {},
   "outputs": [],
   "source": []
  }
 ],
 "metadata": {
  "kernelspec": {
   "display_name": "Python 3",
   "language": "python",
   "name": "python3"
  },
  "language_info": {
   "codemirror_mode": {
    "name": "ipython",
    "version": 3
   },
   "file_extension": ".py",
   "mimetype": "text/x-python",
   "name": "python",
   "nbconvert_exporter": "python",
   "pygments_lexer": "ipython3",
   "version": "3.6.2"
  }
 },
 "nbformat": 4,
 "nbformat_minor": 2
}
